{
  "cells": [
    {
      "cell_type": "markdown",
      "metadata": {
        "id": "cH-lIPn9wxoE"
      },
      "source": [
        "# Import Library"
      ]
    },
    {
      "cell_type": "code",
      "execution_count": 31,
      "metadata": {
        "id": "CojQ2nhlwzTH"
      },
      "outputs": [],
      "source": [
        "import numpy as np\n",
        "import pandas as pd\n",
        "import tensorflow as tf\n",
        "from sklearn.model_selection import train_test_split\n",
        "from tensorflow.keras.applications import VGG19, MobileNetV2 ,InceptionV3\n",
        "from tensorflow.keras.layers import AveragePooling2D, Dropout, Flatten, Dense, GlobalAveragePooling2D\n",
        "from tensorflow.keras.models import Model, load_model\n",
        "from tensorflow.keras.preprocessing.image import img_to_array, load_img\n",
        "import keras_tuner as kt"
      ]
    },
    {
      "cell_type": "markdown",
      "metadata": {
        "id": "05xAt1T7w3n4"
      },
      "source": [
        "# Read Dataset"
      ]
    },
    {
      "cell_type": "code",
      "execution_count": 32,
      "metadata": {
        "id": "MmTER8D-w2k9"
      },
      "outputs": [],
      "source": [
        "df = pd.read_csv(\"data.csv\")\n",
        "df[\"file_path\"] = df[\"mood\"]+'/'+df[\"filename\"].str.split(\".\",expand=True)[0]+\".png\""
      ]
    },
    {
      "cell_type": "code",
      "execution_count": 33,
      "metadata": {},
      "outputs": [
        {
          "data": {
            "text/html": [
              "<div>\n",
              "<style scoped>\n",
              "    .dataframe tbody tr th:only-of-type {\n",
              "        vertical-align: middle;\n",
              "    }\n",
              "\n",
              "    .dataframe tbody tr th {\n",
              "        vertical-align: top;\n",
              "    }\n",
              "\n",
              "    .dataframe thead th {\n",
              "        text-align: right;\n",
              "    }\n",
              "</style>\n",
              "<table border=\"1\" class=\"dataframe\">\n",
              "  <thead>\n",
              "    <tr style=\"text-align: right;\">\n",
              "      <th></th>\n",
              "      <th>filename</th>\n",
              "      <th>mood</th>\n",
              "      <th>file_path</th>\n",
              "    </tr>\n",
              "  </thead>\n",
              "  <tbody>\n",
              "    <tr>\n",
              "      <th>0</th>\n",
              "      <td>A Song For Mama_0.wav</td>\n",
              "      <td>Romance</td>\n",
              "      <td>Romance/A Song For Mama_0.png</td>\n",
              "    </tr>\n",
              "    <tr>\n",
              "      <th>1</th>\n",
              "      <td>A Song For Mama_1.wav</td>\n",
              "      <td>Romance</td>\n",
              "      <td>Romance/A Song For Mama_1.png</td>\n",
              "    </tr>\n",
              "    <tr>\n",
              "      <th>2</th>\n",
              "      <td>A Song For Mama_2.wav</td>\n",
              "      <td>Romance</td>\n",
              "      <td>Romance/A Song For Mama_2.png</td>\n",
              "    </tr>\n",
              "    <tr>\n",
              "      <th>3</th>\n",
              "      <td>A Song For Mama_3.wav</td>\n",
              "      <td>Romance</td>\n",
              "      <td>Romance/A Song For Mama_3.png</td>\n",
              "    </tr>\n",
              "    <tr>\n",
              "      <th>4</th>\n",
              "      <td>A Song For Mama_4.wav</td>\n",
              "      <td>Romance</td>\n",
              "      <td>Romance/A Song For Mama_4.png</td>\n",
              "    </tr>\n",
              "  </tbody>\n",
              "</table>\n",
              "</div>"
            ],
            "text/plain": [
              "                filename     mood                      file_path\n",
              "0  A Song For Mama_0.wav  Romance  Romance/A Song For Mama_0.png\n",
              "1  A Song For Mama_1.wav  Romance  Romance/A Song For Mama_1.png\n",
              "2  A Song For Mama_2.wav  Romance  Romance/A Song For Mama_2.png\n",
              "3  A Song For Mama_3.wav  Romance  Romance/A Song For Mama_3.png\n",
              "4  A Song For Mama_4.wav  Romance  Romance/A Song For Mama_4.png"
            ]
          },
          "execution_count": 33,
          "metadata": {},
          "output_type": "execute_result"
        }
      ],
      "source": [
        "df.head()"
      ]
    },
    {
      "cell_type": "code",
      "execution_count": 34,
      "metadata": {},
      "outputs": [
        {
          "data": {
            "text/plain": [
              "Romance    395\n",
              "Party      368\n",
              "Chill      347\n",
              "Anxious    343\n",
              "Focus      301\n",
              "Sad        271\n",
              "Name: mood, dtype: int64"
            ]
          },
          "execution_count": 34,
          "metadata": {},
          "output_type": "execute_result"
        }
      ],
      "source": [
        "df[\"mood\"].value_counts()"
      ]
    },
    {
      "cell_type": "markdown",
      "metadata": {
        "id": "Ds9BdLl5xB5r"
      },
      "source": [
        "# Define Constant"
      ]
    },
    {
      "cell_type": "code",
      "execution_count": 35,
      "metadata": {
        "id": "KiFsSwWJxDCr"
      },
      "outputs": [],
      "source": [
        "base_dir = \"spectogram/\"\n",
        "IMAGE_SIZE = 224\n",
        "BATCH_SIZE = 128"
      ]
    },
    {
      "cell_type": "markdown",
      "metadata": {
        "id": "gQS-ZtsMxPEA"
      },
      "source": [
        "# Split Dataset"
      ]
    },
    {
      "cell_type": "code",
      "execution_count": 36,
      "metadata": {
        "id": "8AjFLzxfxQyu"
      },
      "outputs": [],
      "source": [
        "# Train 0.75\n",
        "# Validate 0.15\n",
        "# Test 0.10\n",
        "df_train,  test_df = train_test_split(df,train_size=0.9,random_state=1941,stratify=df['mood'])\n",
        "train_df, val_df = train_test_split(df_train,test_size=1/6,random_state=1941,stratify=df_train['mood'])"
      ]
    },
    {
      "cell_type": "markdown",
      "metadata": {
        "id": "xxecLkfqxTZ7"
      },
      "source": [
        "# Load image to generator"
      ]
    },
    {
      "cell_type": "code",
      "execution_count": 37,
      "metadata": {
        "id": "hCYD6uZ5xRlQ"
      },
      "outputs": [
        {
          "name": "stdout",
          "output_type": "stream",
          "text": [
            "Found 1518 validated image filenames belonging to 6 classes.\n"
          ]
        }
      ],
      "source": [
        "from keras_preprocessing.image import ImageDataGenerator\n",
        "\n",
        "train_image_generator = ImageDataGenerator(rescale=1./255,)\n",
        "\n",
        "train_data = train_image_generator.flow_from_dataframe(\n",
        "    train_df,\n",
        "    directory=base_dir,\n",
        "    x_col=\"file_path\",\n",
        "    y_col=\"mood\",\n",
        "    class_mode=\"categorical\",\n",
        "    target_size=(IMAGE_SIZE,IMAGE_SIZE),\n",
        "    batch_size=BATCH_SIZE)"
      ]
    },
    {
      "cell_type": "code",
      "execution_count": 38,
      "metadata": {
        "id": "73r0Ch0HxaO8"
      },
      "outputs": [
        {
          "name": "stdout",
          "output_type": "stream",
          "text": [
            "Found 304 validated image filenames belonging to 6 classes.\n"
          ]
        }
      ],
      "source": [
        "val_image_generator = ImageDataGenerator(rescale=1./255)\n",
        "\n",
        "val_data = val_image_generator.flow_from_dataframe(\n",
        "    val_df,\n",
        "    directory=base_dir,\n",
        "    x_col=\"file_path\",\n",
        "    y_col=\"mood\",\n",
        "    class_mode=\"categorical\",\n",
        "    target_size=(IMAGE_SIZE,IMAGE_SIZE),\n",
        "    batch_size=BATCH_SIZE)"
      ]
    },
    {
      "cell_type": "code",
      "execution_count": 39,
      "metadata": {
        "id": "PV229XCexaqA"
      },
      "outputs": [
        {
          "name": "stdout",
          "output_type": "stream",
          "text": [
            "Found 203 validated image filenames belonging to 6 classes.\n"
          ]
        }
      ],
      "source": [
        "test_image_generator = ImageDataGenerator(rescale=1./255)\n",
        "\n",
        "test_data = test_image_generator.flow_from_dataframe(\n",
        "    test_df,\n",
        "    directory=base_dir,\n",
        "    x_col=\"file_path\",\n",
        "    y_col=\"mood\",\n",
        "    class_mode=\"categorical\",\n",
        "    target_size=(IMAGE_SIZE,IMAGE_SIZE),\n",
        "    batch_size=BATCH_SIZE)"
      ]
    },
    {
      "cell_type": "markdown",
      "metadata": {
        "id": "XXqpo-Rfxdjb"
      },
      "source": [
        "## Check Class indices"
      ]
    },
    {
      "cell_type": "code",
      "execution_count": 40,
      "metadata": {
        "id": "VMkEfdyNxc-r"
      },
      "outputs": [
        {
          "data": {
            "text/plain": [
              "{'Anxious': 0, 'Chill': 1, 'Focus': 2, 'Party': 3, 'Romance': 4, 'Sad': 5}"
            ]
          },
          "execution_count": 40,
          "metadata": {},
          "output_type": "execute_result"
        }
      ],
      "source": [
        "train_data.class_indices"
      ]
    },
    {
      "cell_type": "markdown",
      "metadata": {
        "id": "lNHqf5cqxyFj"
      },
      "source": [
        "# Create model"
      ]
    },
    {
      "cell_type": "code",
      "execution_count": 41,
      "metadata": {
        "id": "o2H6ek0fxfUt"
      },
      "outputs": [],
      "source": [
        "def get_mobilenet_model(hp):\n",
        "  baseModel = MobileNetV2(weights=\"imagenet\", include_top=False, input_shape=(IMAGE_SIZE, IMAGE_SIZE, 3))\n",
        "  headModel = baseModel.output\n",
        "  reduction_type = hp.Choice('reduction_type', ['flatten', 'avg'])\n",
        "  if reduction_type == 'flatten':\n",
        "    headModel = AveragePooling2D(pool_size=(7, 7))(headModel)\n",
        "    headModel = Flatten(name=\"flatten\")(headModel)\n",
        "  else:\n",
        "    headModel = GlobalAveragePooling2D()(headModel)\n",
        "  denseLayers = [\n",
        "    hp.Int('num_dense_units1', min_value=32, max_value=512, step=32),\n",
        "    hp.Int('num_dense_units2', min_value=32, max_value=512, step=32),\n",
        "    hp.Int('num_dense_units3', min_value=32, max_value=512, step=32)\n",
        "  ]\n",
        "  for i in range(hp.Int('num_dense_layers', min_value=1, max_value=3, step=1)):\n",
        "    headModel = Dense(units=denseLayers[i], activation=\"relu\")(headModel)\n",
        "  headModel = Dropout(hp.Choice('dropout_rate', [0.2, 0.25, 0.3, 0.4, 0.5]))(headModel)\n",
        "  headModel = Dense(hp.Int('num_last_dense', min_value=32, max_value=64, step=16), activation=\"relu\")(headModel)\n",
        "  headModel = Dense(6, activation=\"softmax\")(headModel)\n",
        "  model = Model(inputs=baseModel.input, outputs=headModel)\n",
        "  for layer in baseModel.layers:\n",
        "    layer.trainable = False\n",
        "  model.compile(\n",
        "    loss='categorical_crossentropy',\n",
        "    optimizer=\"adam\",\n",
        "    metrics=['accuracy'])\n",
        "  return model"
      ]
    },
    {
      "cell_type": "code",
      "execution_count": 42,
      "metadata": {
        "id": "mr_VzFzyx1kL"
      },
      "outputs": [],
      "source": [
        "model = get_mobilenet_model(kt.HyperParameters())\n",
        "model_name = \"model.h5\""
      ]
    },
    {
      "cell_type": "code",
      "execution_count": 43,
      "metadata": {
        "id": "3banICQ4x7ct"
      },
      "outputs": [],
      "source": [
        "model_checkpoint = tf.keras.callbacks.ModelCheckpoint(\n",
        "    \"models/\"+model_name, save_best_only=True)\n",
        "early_stopping = tf.keras.callbacks.EarlyStopping(patience=10)"
      ]
    },
    {
      "cell_type": "code",
      "execution_count": 44,
      "metadata": {},
      "outputs": [],
      "source": [
        "tuner = kt.RandomSearch(\n",
        "    get_mobilenet_model,\n",
        "    objective='val_accuracy', \n",
        "    max_trials=50,\n",
        "    overwrite=True,\n",
        "    project_name='melodistic-project') "
      ]
    },
    {
      "cell_type": "code",
      "execution_count": 45,
      "metadata": {},
      "outputs": [
        {
          "name": "stdout",
          "output_type": "stream",
          "text": [
            "\n",
            "Search: Running Trial #1\n",
            "\n",
            "Hyperparameter    |Value             |Best Value So Far \n",
            "reduction_type    |avg               |?                 \n",
            "num_dense_units1  |128               |?                 \n",
            "num_dense_units2  |160               |?                 \n",
            "num_dense_units3  |224               |?                 \n",
            "num_dense_layers  |1                 |?                 \n",
            "dropout_rate      |0.5               |?                 \n",
            "num_last_dense    |32                |?                 \n",
            "\n",
            "Epoch 1/10\n"
          ]
        },
        {
          "name": "stderr",
          "output_type": "stream",
          "text": [
            "2022-03-20 00:31:54.802567: I tensorflow/core/grappler/optimizers/custom_graph_optimizer_registry.cc:113] Plugin optimizer for device_type GPU is enabled.\n"
          ]
        },
        {
          "name": "stdout",
          "output_type": "stream",
          "text": [
            "12/12 [==============================] - ETA: 0s - loss: 1.7646 - accuracy: 0.2833"
          ]
        },
        {
          "name": "stderr",
          "output_type": "stream",
          "text": [
            "2022-03-20 00:32:03.042572: I tensorflow/core/grappler/optimizers/custom_graph_optimizer_registry.cc:113] Plugin optimizer for device_type GPU is enabled.\n"
          ]
        },
        {
          "name": "stdout",
          "output_type": "stream",
          "text": [
            "12/12 [==============================] - 11s 777ms/step - loss: 1.7646 - accuracy: 0.2833 - val_loss: 1.4264 - val_accuracy: 0.4507\n",
            "Epoch 2/10\n",
            "12/12 [==============================] - 10s 760ms/step - loss: 1.4299 - accuracy: 0.4157 - val_loss: 1.2345 - val_accuracy: 0.4967\n",
            "Epoch 3/10\n",
            "12/12 [==============================] - 9s 716ms/step - loss: 1.2576 - accuracy: 0.4743 - val_loss: 1.1319 - val_accuracy: 0.5263\n",
            "Epoch 4/10\n",
            "12/12 [==============================] - 9s 732ms/step - loss: 1.1707 - accuracy: 0.5303 - val_loss: 1.0276 - val_accuracy: 0.6053\n",
            "Epoch 5/10\n",
            "12/12 [==============================] - 8s 702ms/step - loss: 1.0890 - accuracy: 0.5468 - val_loss: 0.9687 - val_accuracy: 0.6217\n",
            "Epoch 6/10\n",
            "12/12 [==============================] - 8s 688ms/step - loss: 1.0179 - accuracy: 0.5916 - val_loss: 0.9258 - val_accuracy: 0.6414\n",
            "Epoch 7/10\n",
            "12/12 [==============================] - 9s 719ms/step - loss: 0.9630 - accuracy: 0.6159 - val_loss: 0.8948 - val_accuracy: 0.6414\n",
            "Epoch 8/10\n",
            "12/12 [==============================] - 8s 700ms/step - loss: 0.9185 - accuracy: 0.6337 - val_loss: 0.8590 - val_accuracy: 0.6513\n",
            "Epoch 9/10\n",
            "12/12 [==============================] - 9s 721ms/step - loss: 0.8886 - accuracy: 0.6495 - val_loss: 0.8475 - val_accuracy: 0.6678\n",
            "Epoch 10/10\n"
          ]
        }
      ],
      "source": [
        "tuner.search(train_data, epochs=10, validation_data=val_data, callbacks=[model_checkpoint, early_stopping])"
      ]
    },
    {
      "cell_type": "code",
      "execution_count": null,
      "metadata": {
        "id": "mLnVUxtsx8bv"
      },
      "outputs": [
        {
          "name": "stdout",
          "output_type": "stream",
          "text": [
            "Epoch 1/100\n"
          ]
        },
        {
          "name": "stderr",
          "output_type": "stream",
          "text": [
            "2022-03-20 00:27:22.885656: I tensorflow/core/grappler/optimizers/custom_graph_optimizer_registry.cc:113] Plugin optimizer for device_type GPU is enabled.\n"
          ]
        },
        {
          "name": "stdout",
          "output_type": "stream",
          "text": [
            "12/12 [==============================] - ETA: 0s - loss: 0.6649 - accuracy: 0.7398"
          ]
        },
        {
          "name": "stderr",
          "output_type": "stream",
          "text": [
            "2022-03-20 00:27:31.007259: I tensorflow/core/grappler/optimizers/custom_graph_optimizer_registry.cc:113] Plugin optimizer for device_type GPU is enabled.\n"
          ]
        },
        {
          "name": "stdout",
          "output_type": "stream",
          "text": [
            "12/12 [==============================] - 11s 743ms/step - loss: 0.6649 - accuracy: 0.7398 - val_loss: 0.7681 - val_accuracy: 0.6809\n",
            "Epoch 2/100\n",
            "12/12 [==============================] - 8s 670ms/step - loss: 0.5801 - accuracy: 0.7773 - val_loss: 0.8413 - val_accuracy: 0.6743\n",
            "Epoch 3/100\n",
            "12/12 [==============================] - 8s 674ms/step - loss: 0.4617 - accuracy: 0.8307 - val_loss: 0.8080 - val_accuracy: 0.7007\n",
            "Epoch 4/100\n",
            "12/12 [==============================] - 8s 667ms/step - loss: 0.4440 - accuracy: 0.8300 - val_loss: 0.8498 - val_accuracy: 0.6776\n",
            "Epoch 5/100\n",
            "12/12 [==============================] - 8s 698ms/step - loss: 0.3837 - accuracy: 0.8505 - val_loss: 0.8694 - val_accuracy: 0.7007\n",
            "Epoch 6/100\n",
            "12/12 [==============================] - 8s 662ms/step - loss: 0.3102 - accuracy: 0.8874 - val_loss: 0.9976 - val_accuracy: 0.7072\n",
            "Epoch 7/100\n",
            "12/12 [==============================] - 8s 628ms/step - loss: 0.2755 - accuracy: 0.9051 - val_loss: 0.8308 - val_accuracy: 0.7336\n",
            "Epoch 8/100\n",
            "12/12 [==============================] - 8s 630ms/step - loss: 0.2396 - accuracy: 0.9137 - val_loss: 0.9207 - val_accuracy: 0.7204\n",
            "Epoch 9/100\n",
            "12/12 [==============================] - 8s 638ms/step - loss: 0.2128 - accuracy: 0.9163 - val_loss: 0.8473 - val_accuracy: 0.7500\n",
            "Epoch 10/100\n",
            "12/12 [==============================] - 8s 631ms/step - loss: 0.1543 - accuracy: 0.9545 - val_loss: 0.9065 - val_accuracy: 0.7467\n",
            "Epoch 11/100\n",
            "12/12 [==============================] - 8s 631ms/step - loss: 0.1157 - accuracy: 0.9598 - val_loss: 0.8948 - val_accuracy: 0.7336\n"
          ]
        }
      ],
      "source": [
        "best_model = tuner.get_best_models()[0]\n",
        "EPOCHS = 100\n",
        "history = best_model.fit(train_data, epochs=EPOCHS, validation_data=val_data, batch_size=BATCH_SIZE, callbacks=[early_stopping, model_checkpoint])"
      ]
    },
    {
      "cell_type": "markdown",
      "metadata": {},
      "source": [
        "# Save Model"
      ]
    },
    {
      "cell_type": "code",
      "execution_count": null,
      "metadata": {},
      "outputs": [],
      "source": [
        "best_model.save(\"models/\"+model_name)"
      ]
    },
    {
      "cell_type": "markdown",
      "metadata": {},
      "source": [
        "# Load Model"
      ]
    },
    {
      "cell_type": "code",
      "execution_count": null,
      "metadata": {},
      "outputs": [
        {
          "name": "stdout",
          "output_type": "stream",
          "text": [
            "WARNING:tensorflow:Error in loading the saved optimizer state. As a result, your model is starting with a freshly initialized optimizer.\n"
          ]
        }
      ],
      "source": [
        "model = load_model(\"models/\"+model_name)"
      ]
    },
    {
      "cell_type": "markdown",
      "metadata": {},
      "source": [
        "# Evaluate Model"
      ]
    },
    {
      "cell_type": "code",
      "execution_count": null,
      "metadata": {},
      "outputs": [
        {
          "name": "stderr",
          "output_type": "stream",
          "text": [
            "2022-03-20 00:30:19.749530: I tensorflow/core/grappler/optimizers/custom_graph_optimizer_registry.cc:113] Plugin optimizer for device_type GPU is enabled.\n"
          ]
        },
        {
          "name": "stdout",
          "output_type": "stream",
          "text": [
            "Done:  10 Acc: 0.7\n",
            "Done:  20 Acc: 0.75\n",
            "Done:  30 Acc: 0.8\n",
            "Done:  40 Acc: 0.775\n",
            "Done:  50 Acc: 0.76\n",
            "Done:  60 Acc: 0.7333\n",
            "Done:  70 Acc: 0.7286\n",
            "Done:  80 Acc: 0.7375\n",
            "Done:  90 Acc: 0.7222\n",
            "Done:  100 Acc: 0.73\n",
            "Done:  110 Acc: 0.7182\n",
            "Done:  120 Acc: 0.7417\n",
            "Done:  130 Acc: 0.7538\n",
            "Done:  140 Acc: 0.7571\n",
            "Done:  150 Acc: 0.76\n",
            "Done:  160 Acc: 0.7688\n",
            "Done:  170 Acc: 0.7765\n",
            "Done:  180 Acc: 0.7833\n",
            "Done:  190 Acc: 0.7789\n",
            "Done:  200 Acc: 0.785\n",
            "Accuracy:  0.7833\n"
          ]
        }
      ],
      "source": [
        "import os\n",
        "confusion_matrix_s = np.zeros(36).reshape(6,6)\n",
        "true = 0\n",
        "class_labels = list(train_data.class_indices.keys())\n",
        "count = 0\n",
        "for i in test_df.itertuples():\n",
        "    img = tf.keras.preprocessing.image.load_img(\n",
        "        os.path.join(base_dir,i[3]), target_size=(IMAGE_SIZE, IMAGE_SIZE)\n",
        "    )\n",
        "    img_array = tf.keras.preprocessing.image.img_to_array(img)\n",
        "    img_array = img_array / 255\n",
        "    img_array = img_array.reshape(1,IMAGE_SIZE,IMAGE_SIZE,3)\n",
        "    predictions = model.predict(img_array)\n",
        "    pred_class = class_labels[np.argmax(predictions)]   \n",
        "    row = class_labels.index(pred_class)\n",
        "    col = class_labels.index(i[2])\n",
        "    confusion_matrix_s[row][col] += 1\n",
        "    if pred_class == i[2]:\n",
        "        true+=1\n",
        "    count += 1\n",
        "    if count % 10 == 0:\n",
        "        print(\"Done: \",count, \"Acc:\", round(true/count,4))\n",
        "print(\"Accuracy: \", round(true/count,4))"
      ]
    },
    {
      "cell_type": "code",
      "execution_count": null,
      "metadata": {},
      "outputs": [
        {
          "name": "stdout",
          "output_type": "stream",
          "text": [
            "Accuracy:  0.7832512315270936\n"
          ]
        },
        {
          "name": "stderr",
          "output_type": "stream",
          "text": [
            "/var/folders/q1/qjttjhc15mb146h6q363vh_80000gn/T/ipykernel_1301/980666082.py:9: UserWarning: FixedFormatter should only be used together with FixedLocator\n",
            "  ax.set_xticklabels([\"\",*class_labels])\n",
            "/var/folders/q1/qjttjhc15mb146h6q363vh_80000gn/T/ipykernel_1301/980666082.py:10: UserWarning: FixedFormatter should only be used together with FixedLocator\n",
            "  ax.set_yticklabels([\"\",*class_labels])\n"
          ]
        },
        {
          "data": {
            "image/png": "[encoded data removed]",
            "text/plain": [
              "<Figure size 432x288 with 2 Axes>"
            ]
          },
          "metadata": {
            "needs_background": "light"
          },
          "output_type": "display_data"
        }
      ],
      "source": [
        "import matplotlib.pyplot as plt\n",
        "fig, ax = plt.subplots()\n",
        "plt.title(\"Confusion Matrix\")\n",
        "heatmap = ax.matshow(confusion_matrix_s,cmap='GnBu')\n",
        "plt.xlabel(\"Actual Class\")\n",
        "plt.ylabel(\"Predict Class\")\n",
        "plt.colorbar(heatmap)\n",
        "ax.xaxis.set_ticks_position('bottom')\n",
        "ax.set_xticklabels([\"\",*class_labels])\n",
        "ax.set_yticklabels([\"\",*class_labels])\n",
        "for (i, j), z in np.ndenumerate(confusion_matrix_s):\n",
        "    ax.text(j, i, '{:0.1f}'.format(z), ha='center', va='center')\n",
        "accuracy = np.trace(confusion_matrix_s)/np.sum(confusion_matrix_s)\n",
        "print(\"Accuracy: \", accuracy)"
      ]
    }
  ],
  "metadata": {
    "colab": {
      "name": "Untitled17.ipynb",
      "provenance": []
    },
    "kernelspec": {
      "display_name": "Python 3",
      "name": "python3"
    },
    "language_info": {
      "codemirror_mode": {
        "name": "ipython",
        "version": 3
      },
      "file_extension": ".py",
      "mimetype": "text/x-python",
      "name": "python",
      "nbconvert_exporter": "python",
      "pygments_lexer": "ipython3",
      "version": "3.8.12"
    }
  },
  "nbformat": 4,
  "nbformat_minor": 0
}
