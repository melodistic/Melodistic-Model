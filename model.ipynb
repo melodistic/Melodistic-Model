{
  "cells": [
    {
      "cell_type": "markdown",
      "metadata": {
        "id": "cH-lIPn9wxoE"
      },
      "source": [
        "# Import Library"
      ]
    },
    {
      "cell_type": "code",
      "execution_count": 1,
      "metadata": {
        "id": "CojQ2nhlwzTH"
      },
      "outputs": [],
      "source": [
        "import numpy as np\n",
        "import pandas as pd\n",
        "import tensorflow as tf\n",
        "from sklearn.model_selection import train_test_split\n",
        "from tensorflow.keras.applications import VGG19, MobileNetV2 ,InceptionV3\n",
        "from tensorflow.keras.layers import AveragePooling2D, Dropout, Flatten, Dense, GlobalAveragePooling2D\n",
        "from tensorflow.keras.models import Model, load_model\n",
        "from tensorflow.keras.preprocessing.image import img_to_array, load_img\n",
        "import keras_tuner as kt"
      ]
    },
    {
      "cell_type": "markdown",
      "metadata": {
        "id": "05xAt1T7w3n4"
      },
      "source": [
        "# Read Dataset"
      ]
    },
    {
      "cell_type": "code",
      "execution_count": 2,
      "metadata": {
        "id": "MmTER8D-w2k9"
      },
      "outputs": [],
      "source": [
        "df = pd.read_csv(\"data.csv\")\n",
        "df[\"file_path\"] = df[\"mood\"]+'/'+df[\"filename\"].str.split(\".\",expand=True)[0]+\".png\""
      ]
    },
    {
      "cell_type": "code",
      "execution_count": 3,
      "metadata": {},
      "outputs": [
        {
          "data": {
            "text/html": [
              "<div>\n",
              "<style scoped>\n",
              "    .dataframe tbody tr th:only-of-type {\n",
              "        vertical-align: middle;\n",
              "    }\n",
              "\n",
              "    .dataframe tbody tr th {\n",
              "        vertical-align: top;\n",
              "    }\n",
              "\n",
              "    .dataframe thead th {\n",
              "        text-align: right;\n",
              "    }\n",
              "</style>\n",
              "<table border=\"1\" class=\"dataframe\">\n",
              "  <thead>\n",
              "    <tr style=\"text-align: right;\">\n",
              "      <th></th>\n",
              "      <th>filename</th>\n",
              "      <th>mood</th>\n",
              "      <th>file_path</th>\n",
              "    </tr>\n",
              "  </thead>\n",
              "  <tbody>\n",
              "    <tr>\n",
              "      <th>0</th>\n",
              "      <td>A Song For Mama_0.wav</td>\n",
              "      <td>Romance</td>\n",
              "      <td>Romance/A Song For Mama_0.png</td>\n",
              "    </tr>\n",
              "    <tr>\n",
              "      <th>1</th>\n",
              "      <td>A Song For Mama_1.wav</td>\n",
              "      <td>Romance</td>\n",
              "      <td>Romance/A Song For Mama_1.png</td>\n",
              "    </tr>\n",
              "    <tr>\n",
              "      <th>2</th>\n",
              "      <td>A Song For Mama_10.wav</td>\n",
              "      <td>Romance</td>\n",
              "      <td>Romance/A Song For Mama_10.png</td>\n",
              "    </tr>\n",
              "    <tr>\n",
              "      <th>3</th>\n",
              "      <td>A Song For Mama_11.wav</td>\n",
              "      <td>Romance</td>\n",
              "      <td>Romance/A Song For Mama_11.png</td>\n",
              "    </tr>\n",
              "    <tr>\n",
              "      <th>4</th>\n",
              "      <td>A Song For Mama_12.wav</td>\n",
              "      <td>Romance</td>\n",
              "      <td>Romance/A Song For Mama_12.png</td>\n",
              "    </tr>\n",
              "  </tbody>\n",
              "</table>\n",
              "</div>"
            ],
            "text/plain": [
              "                 filename     mood                       file_path\n",
              "0   A Song For Mama_0.wav  Romance   Romance/A Song For Mama_0.png\n",
              "1   A Song For Mama_1.wav  Romance   Romance/A Song For Mama_1.png\n",
              "2  A Song For Mama_10.wav  Romance  Romance/A Song For Mama_10.png\n",
              "3  A Song For Mama_11.wav  Romance  Romance/A Song For Mama_11.png\n",
              "4  A Song For Mama_12.wav  Romance  Romance/A Song For Mama_12.png"
            ]
          },
          "execution_count": 3,
          "metadata": {},
          "output_type": "execute_result"
        }
      ],
      "source": [
        "df.head()"
      ]
    },
    {
      "cell_type": "code",
      "execution_count": 4,
      "metadata": {},
      "outputs": [
        {
          "data": {
            "text/plain": [
              "Anxious    1040\n",
              "Romance    1000\n",
              "Party      1000\n",
              "Focus      1000\n",
              "Chill      1000\n",
              "Sad         840\n",
              "Name: mood, dtype: int64"
            ]
          },
          "execution_count": 4,
          "metadata": {},
          "output_type": "execute_result"
        }
      ],
      "source": [
        "df[\"mood\"].value_counts()"
      ]
    },
    {
      "cell_type": "markdown",
      "metadata": {
        "id": "Ds9BdLl5xB5r"
      },
      "source": [
        "# Define Constant"
      ]
    },
    {
      "cell_type": "code",
      "execution_count": 5,
      "metadata": {
        "id": "KiFsSwWJxDCr"
      },
      "outputs": [],
      "source": [
        "base_dir = \"spectogram/\"\n",
        "IMAGE_SIZE = 224\n",
        "BATCH_SIZE = 128"
      ]
    },
    {
      "cell_type": "markdown",
      "metadata": {
        "id": "gQS-ZtsMxPEA"
      },
      "source": [
        "# Split Dataset"
      ]
    },
    {
      "cell_type": "code",
      "execution_count": 6,
      "metadata": {
        "id": "8AjFLzxfxQyu"
      },
      "outputs": [],
      "source": [
        "# Train 0.75\n",
        "# Validate 0.15\n",
        "# Test 0.10\n",
        "df_train,  test_df = train_test_split(df,train_size=0.9,random_state=1941,stratify=df['mood'])\n",
        "train_df, val_df = train_test_split(df_train,test_size=1/6,random_state=1941,stratify=df_train['mood'])"
      ]
    },
    {
      "cell_type": "markdown",
      "metadata": {
        "id": "xxecLkfqxTZ7"
      },
      "source": [
        "# Load image to generator"
      ]
    },
    {
      "cell_type": "code",
      "execution_count": 7,
      "metadata": {
        "id": "hCYD6uZ5xRlQ"
      },
      "outputs": [
        {
          "name": "stdout",
          "output_type": "stream",
          "text": [
            "Found 4410 validated image filenames belonging to 6 classes.\n"
          ]
        }
      ],
      "source": [
        "from keras_preprocessing.image import ImageDataGenerator\n",
        "\n",
        "train_image_generator = ImageDataGenerator(rescale=1./255,)\n",
        "\n",
        "train_data = train_image_generator.flow_from_dataframe(\n",
        "    train_df,\n",
        "    directory=base_dir,\n",
        "    x_col=\"file_path\",\n",
        "    y_col=\"mood\",\n",
        "    class_mode=\"categorical\",\n",
        "    target_size=(IMAGE_SIZE,IMAGE_SIZE),\n",
        "    batch_size=BATCH_SIZE)"
      ]
    },
    {
      "cell_type": "code",
      "execution_count": 8,
      "metadata": {
        "id": "73r0Ch0HxaO8"
      },
      "outputs": [
        {
          "name": "stdout",
          "output_type": "stream",
          "text": [
            "Found 882 validated image filenames belonging to 6 classes.\n"
          ]
        }
      ],
      "source": [
        "val_image_generator = ImageDataGenerator(rescale=1./255)\n",
        "\n",
        "val_data = val_image_generator.flow_from_dataframe(\n",
        "    val_df,\n",
        "    directory=base_dir,\n",
        "    x_col=\"file_path\",\n",
        "    y_col=\"mood\",\n",
        "    class_mode=\"categorical\",\n",
        "    target_size=(IMAGE_SIZE,IMAGE_SIZE),\n",
        "    batch_size=BATCH_SIZE)"
      ]
    },
    {
      "cell_type": "code",
      "execution_count": 9,
      "metadata": {
        "id": "PV229XCexaqA"
      },
      "outputs": [
        {
          "name": "stdout",
          "output_type": "stream",
          "text": [
            "Found 588 validated image filenames belonging to 6 classes.\n"
          ]
        }
      ],
      "source": [
        "test_image_generator = ImageDataGenerator(rescale=1./255)\n",
        "\n",
        "test_data = test_image_generator.flow_from_dataframe(\n",
        "    test_df,\n",
        "    directory=base_dir,\n",
        "    x_col=\"file_path\",\n",
        "    y_col=\"mood\",\n",
        "    class_mode=\"categorical\",\n",
        "    target_size=(IMAGE_SIZE,IMAGE_SIZE),\n",
        "    batch_size=BATCH_SIZE)"
      ]
    },
    {
      "cell_type": "markdown",
      "metadata": {
        "id": "XXqpo-Rfxdjb"
      },
      "source": [
        "## Check Class indices"
      ]
    },
    {
      "cell_type": "code",
      "execution_count": 10,
      "metadata": {
        "id": "VMkEfdyNxc-r"
      },
      "outputs": [
        {
          "data": {
            "text/plain": [
              "{'Anxious': 0, 'Chill': 1, 'Focus': 2, 'Party': 3, 'Romance': 4, 'Sad': 5}"
            ]
          },
          "execution_count": 10,
          "metadata": {},
          "output_type": "execute_result"
        }
      ],
      "source": [
        "train_data.class_indices"
      ]
    },
    {
      "cell_type": "markdown",
      "metadata": {
        "id": "lNHqf5cqxyFj"
      },
      "source": [
        "# Create model"
      ]
    },
    {
      "cell_type": "code",
      "execution_count": 11,
      "metadata": {
        "id": "o2H6ek0fxfUt"
      },
      "outputs": [],
      "source": [
        "def get_mobilenet_model(hp):\n",
        "  baseModel = MobileNetV2(weights=\"imagenet\", include_top=False, input_shape=(IMAGE_SIZE, IMAGE_SIZE, 3))\n",
        "  headModel = baseModel.output\n",
        "  reduction_type = hp.Choice('reduction_type', ['flatten', 'avg'])\n",
        "  if reduction_type == 'flatten':\n",
        "    headModel = AveragePooling2D(pool_size=(7, 7))(headModel)\n",
        "    headModel = Flatten(name=\"flatten\")(headModel)\n",
        "  else:\n",
        "    headModel = GlobalAveragePooling2D()(headModel)\n",
        "  denseLayers = [\n",
        "    hp.Int('num_dense_units1', min_value=32, max_value=512, step=32),\n",
        "    hp.Int('num_dense_units2', min_value=32, max_value=512, step=32),\n",
        "    hp.Int('num_dense_units3', min_value=32, max_value=512, step=32)\n",
        "  ]\n",
        "  for i in range(hp.Int('num_dense_layers', min_value=1, max_value=3, step=1)):\n",
        "    headModel = Dense(units=denseLayers[i], activation=\"relu\")(headModel)\n",
        "  headModel = Dropout(hp.Choice('dropout_rate', [0.2, 0.25, 0.3, 0.4, 0.5]))(headModel)\n",
        "  headModel = Dense(hp.Int('num_last_dense', min_value=32, max_value=64, step=16), activation=\"relu\")(headModel)\n",
        "  headModel = Dense(6, activation=\"softmax\")(headModel)\n",
        "  model = Model(inputs=baseModel.input, outputs=headModel)\n",
        "  for layer in baseModel.layers:\n",
        "    layer.trainable = False\n",
        "  model.compile(\n",
        "    loss='categorical_crossentropy',\n",
        "    optimizer=\"adam\",\n",
        "    metrics=['accuracy'])\n",
        "  return model"
      ]
    },
    {
      "cell_type": "code",
      "execution_count": 12,
      "metadata": {
        "id": "mr_VzFzyx1kL"
      },
      "outputs": [
        {
          "name": "stdout",
          "output_type": "stream",
          "text": [
            "Metal device set to: Apple M1\n",
            "\n",
            "systemMemory: 16.00 GB\n",
            "maxCacheSize: 5.33 GB\n",
            "\n"
          ]
        },
        {
          "name": "stderr",
          "output_type": "stream",
          "text": [
            "2022-04-20 10:36:26.802239: I tensorflow/core/common_runtime/pluggable_device/pluggable_device_factory.cc:305] Could not identify NUMA node of platform GPU ID 0, defaulting to 0. Your kernel may not have been built with NUMA support.\n",
            "2022-04-20 10:36:26.802601: I tensorflow/core/common_runtime/pluggable_device/pluggable_device_factory.cc:271] Created TensorFlow device (/job:localhost/replica:0/task:0/device:GPU:0 with 0 MB memory) -> physical PluggableDevice (device: 0, name: METAL, pci bus id: <undefined>)\n"
          ]
        }
      ],
      "source": [
        "model = get_mobilenet_model(kt.HyperParameters())\n",
        "model_name = \"model.h5\""
      ]
    },
    {
      "cell_type": "code",
      "execution_count": 13,
      "metadata": {
        "id": "3banICQ4x7ct"
      },
      "outputs": [],
      "source": [
        "model_checkpoint = tf.keras.callbacks.ModelCheckpoint(\n",
        "    \"models/\"+model_name, save_best_only=True)\n",
        "early_stopping = tf.keras.callbacks.EarlyStopping(patience=10)"
      ]
    },
    {
      "cell_type": "code",
      "execution_count": 14,
      "metadata": {},
      "outputs": [],
      "source": [
        "tuner = kt.RandomSearch(\n",
        "    get_mobilenet_model,\n",
        "    objective='val_accuracy', \n",
        "    max_trials=50,\n",
        "    overwrite=True,\n",
        "    project_name='melodistic-project') "
      ]
    },
    {
      "cell_type": "code",
      "execution_count": null,
      "metadata": {},
      "outputs": [],
      "source": [
        "tuner.search(train_data, epochs=10, validation_data=val_data, callbacks=[model_checkpoint, early_stopping])"
      ]
    },
    {
      "cell_type": "code",
      "execution_count": 16,
      "metadata": {
        "id": "mLnVUxtsx8bv"
      },
      "outputs": [
        {
          "name": "stdout",
          "output_type": "stream",
          "text": [
            "Epoch 1/100\n"
          ]
        },
        {
          "name": "stderr",
          "output_type": "stream",
          "text": [
            "2022-04-20 12:53:07.680059: I tensorflow/core/grappler/optimizers/custom_graph_optimizer_registry.cc:113] Plugin optimizer for device_type GPU is enabled.\n"
          ]
        },
        {
          "name": "stdout",
          "output_type": "stream",
          "text": [
            "35/35 [==============================] - ETA: 0s - loss: 0.0815 - accuracy: 0.9721"
          ]
        },
        {
          "name": "stderr",
          "output_type": "stream",
          "text": [
            "2022-04-20 12:53:27.793115: I tensorflow/core/grappler/optimizers/custom_graph_optimizer_registry.cc:113] Plugin optimizer for device_type GPU is enabled.\n"
          ]
        },
        {
          "name": "stdout",
          "output_type": "stream",
          "text": [
            "35/35 [==============================] - 26s 683ms/step - loss: 0.0815 - accuracy: 0.9721 - val_loss: 0.2892 - val_accuracy: 0.8991\n",
            "Epoch 2/100\n",
            "35/35 [==============================] - 23s 648ms/step - loss: 0.0545 - accuracy: 0.9816 - val_loss: 0.3194 - val_accuracy: 0.9036\n",
            "Epoch 3/100\n",
            "35/35 [==============================] - 24s 682ms/step - loss: 0.0834 - accuracy: 0.9685 - val_loss: 0.2824 - val_accuracy: 0.9082\n",
            "Epoch 4/100\n",
            "35/35 [==============================] - 24s 672ms/step - loss: 0.0394 - accuracy: 0.9875 - val_loss: 0.2336 - val_accuracy: 0.9297\n",
            "Epoch 5/100\n",
            "35/35 [==============================] - 23s 646ms/step - loss: 0.0559 - accuracy: 0.9791 - val_loss: 0.3160 - val_accuracy: 0.9184\n",
            "Epoch 6/100\n",
            "35/35 [==============================] - 23s 644ms/step - loss: 0.0453 - accuracy: 0.9848 - val_loss: 0.2785 - val_accuracy: 0.9218\n",
            "Epoch 7/100\n",
            "35/35 [==============================] - 23s 646ms/step - loss: 0.0832 - accuracy: 0.9707 - val_loss: 0.2354 - val_accuracy: 0.9263\n",
            "Epoch 8/100\n",
            "35/35 [==============================] - 23s 640ms/step - loss: 0.0698 - accuracy: 0.9732 - val_loss: 0.2040 - val_accuracy: 0.9399\n",
            "Epoch 9/100\n",
            "35/35 [==============================] - 22s 637ms/step - loss: 0.0172 - accuracy: 0.9964 - val_loss: 0.1797 - val_accuracy: 0.9501\n",
            "Epoch 10/100\n",
            "35/35 [==============================] - 25s 710ms/step - loss: 0.0039 - accuracy: 0.9995 - val_loss: 0.2176 - val_accuracy: 0.9478\n",
            "Epoch 11/100\n",
            "35/35 [==============================] - 22s 629ms/step - loss: 0.0047 - accuracy: 0.9989 - val_loss: 0.1842 - val_accuracy: 0.9569\n",
            "Epoch 12/100\n",
            "35/35 [==============================] - 22s 631ms/step - loss: 0.0047 - accuracy: 0.9986 - val_loss: 0.1882 - val_accuracy: 0.9512\n",
            "Epoch 13/100\n",
            "35/35 [==============================] - 22s 631ms/step - loss: 0.0053 - accuracy: 0.9984 - val_loss: 0.1904 - val_accuracy: 0.9512\n",
            "Epoch 14/100\n",
            "35/35 [==============================] - 22s 617ms/step - loss: 0.0061 - accuracy: 0.9980 - val_loss: 0.1907 - val_accuracy: 0.9535\n",
            "Epoch 15/100\n",
            "35/35 [==============================] - 21s 608ms/step - loss: 0.0084 - accuracy: 0.9973 - val_loss: 0.2011 - val_accuracy: 0.9535\n",
            "Epoch 16/100\n",
            "35/35 [==============================] - 23s 646ms/step - loss: 0.0189 - accuracy: 0.9930 - val_loss: 0.2274 - val_accuracy: 0.9320\n",
            "Epoch 17/100\n",
            "35/35 [==============================] - 22s 622ms/step - loss: 0.0979 - accuracy: 0.9678 - val_loss: 0.3637 - val_accuracy: 0.8934\n",
            "Epoch 18/100\n",
            "35/35 [==============================] - 22s 610ms/step - loss: 0.0598 - accuracy: 0.9798 - val_loss: 0.2629 - val_accuracy: 0.9354\n",
            "Epoch 19/100\n",
            "35/35 [==============================] - 23s 665ms/step - loss: 0.0211 - accuracy: 0.9939 - val_loss: 0.2499 - val_accuracy: 0.9286\n"
          ]
        }
      ],
      "source": [
        "best_model = tuner.get_best_models()[0]\n",
        "EPOCHS = 100\n",
        "history = best_model.fit(train_data, epochs=EPOCHS, validation_data=val_data, batch_size=BATCH_SIZE, callbacks=[early_stopping, model_checkpoint])"
      ]
    },
    {
      "cell_type": "markdown",
      "metadata": {},
      "source": [
        "# Save Model"
      ]
    },
    {
      "cell_type": "code",
      "execution_count": 17,
      "metadata": {},
      "outputs": [],
      "source": [
        "best_model.save(\"models/\"+model_name)"
      ]
    },
    {
      "cell_type": "markdown",
      "metadata": {},
      "source": [
        "# Load Model"
      ]
    },
    {
      "cell_type": "code",
      "execution_count": 18,
      "metadata": {},
      "outputs": [
        {
          "name": "stdout",
          "output_type": "stream",
          "text": [
            "WARNING:tensorflow:Error in loading the saved optimizer state. As a result, your model is starting with a freshly initialized optimizer.\n"
          ]
        }
      ],
      "source": [
        "model = load_model(\"models/\"+model_name)"
      ]
    },
    {
      "cell_type": "markdown",
      "metadata": {},
      "source": [
        "# Evaluate Model"
      ]
    },
    {
      "cell_type": "code",
      "execution_count": 19,
      "metadata": {},
      "outputs": [
        {
          "name": "stderr",
          "output_type": "stream",
          "text": [
            "2022-04-20 13:01:56.790775: I tensorflow/core/grappler/optimizers/custom_graph_optimizer_registry.cc:113] Plugin optimizer for device_type GPU is enabled.\n"
          ]
        },
        {
          "name": "stdout",
          "output_type": "stream",
          "text": [
            "Done:  10 Acc: 1.0\n",
            "Done:  20 Acc: 0.9\n",
            "Done:  30 Acc: 0.9333\n",
            "Done:  40 Acc: 0.925\n",
            "Done:  50 Acc: 0.92\n",
            "Done:  60 Acc: 0.9333\n",
            "Done:  70 Acc: 0.9429\n",
            "Done:  80 Acc: 0.95\n",
            "Done:  90 Acc: 0.9556\n",
            "Done:  100 Acc: 0.96\n",
            "Done:  110 Acc: 0.9636\n",
            "Done:  120 Acc: 0.9583\n",
            "Done:  130 Acc: 0.9538\n",
            "Done:  140 Acc: 0.95\n",
            "Done:  150 Acc: 0.9533\n",
            "Done:  160 Acc: 0.95\n",
            "Done:  170 Acc: 0.9412\n",
            "Done:  180 Acc: 0.9444\n",
            "Done:  190 Acc: 0.9368\n",
            "Done:  200 Acc: 0.94\n",
            "Done:  210 Acc: 0.9381\n",
            "Done:  220 Acc: 0.9364\n",
            "Done:  230 Acc: 0.9348\n",
            "Done:  240 Acc: 0.9375\n",
            "Done:  250 Acc: 0.928\n",
            "Done:  260 Acc: 0.9269\n",
            "Done:  270 Acc: 0.9259\n",
            "Done:  280 Acc: 0.925\n",
            "Done:  290 Acc: 0.9207\n",
            "Done:  300 Acc: 0.9233\n",
            "Done:  310 Acc: 0.9226\n",
            "Done:  320 Acc: 0.925\n",
            "Done:  330 Acc: 0.9273\n",
            "Done:  340 Acc: 0.9235\n",
            "Done:  350 Acc: 0.9229\n",
            "Done:  360 Acc: 0.925\n",
            "Done:  370 Acc: 0.9189\n",
            "Done:  380 Acc: 0.9211\n",
            "Done:  390 Acc: 0.9231\n",
            "Done:  400 Acc: 0.925\n",
            "Done:  410 Acc: 0.9244\n",
            "Done:  420 Acc: 0.9238\n",
            "Done:  430 Acc: 0.9256\n",
            "Done:  440 Acc: 0.9227\n",
            "Done:  450 Acc: 0.9244\n",
            "Done:  460 Acc: 0.9217\n",
            "Done:  470 Acc: 0.9191\n",
            "Done:  480 Acc: 0.9208\n",
            "Done:  490 Acc: 0.9224\n",
            "Done:  500 Acc: 0.92\n",
            "Done:  510 Acc: 0.9216\n",
            "Done:  520 Acc: 0.9231\n",
            "Done:  530 Acc: 0.9245\n",
            "Done:  540 Acc: 0.9222\n",
            "Done:  550 Acc: 0.9218\n",
            "Done:  560 Acc: 0.9232\n",
            "Done:  570 Acc: 0.9228\n",
            "Done:  580 Acc: 0.9224\n",
            "Accuracy:  0.9184\n"
          ]
        }
      ],
      "source": [
        "import os\n",
        "confusion_matrix_s = np.zeros(36).reshape(6,6)\n",
        "true = 0\n",
        "class_labels = list(train_data.class_indices.keys())\n",
        "count = 0\n",
        "for i in test_df.itertuples():\n",
        "    img = tf.keras.preprocessing.image.load_img(\n",
        "        os.path.join(base_dir,i[3]), target_size=(IMAGE_SIZE, IMAGE_SIZE)\n",
        "    )\n",
        "    img_array = tf.keras.preprocessing.image.img_to_array(img)\n",
        "    img_array = img_array / 255\n",
        "    img_array = img_array.reshape(1,IMAGE_SIZE,IMAGE_SIZE,3)\n",
        "    predictions = model.predict(img_array)\n",
        "    pred_class = class_labels[np.argmax(predictions)]   \n",
        "    row = class_labels.index(pred_class)\n",
        "    col = class_labels.index(i[2])\n",
        "    confusion_matrix_s[row][col] += 1\n",
        "    if pred_class == i[2]:\n",
        "        true+=1\n",
        "    count += 1\n",
        "    if count % 10 == 0:\n",
        "        print(\"Done: \",count, \"Acc:\", round(true/count,4))\n",
        "print(\"Accuracy: \", round(true/count,4))"
      ]
    },
    {
      "cell_type": "code",
      "execution_count": 20,
      "metadata": {},
      "outputs": [
        {
          "name": "stdout",
          "output_type": "stream",
          "text": [
            "Accuracy:  0.9183673469387755\n"
          ]
        },
        {
          "name": "stderr",
          "output_type": "stream",
          "text": [
            "/var/folders/q1/qjttjhc15mb146h6q363vh_80000gn/T/ipykernel_1010/980666082.py:9: UserWarning: FixedFormatter should only be used together with FixedLocator\n",
            "  ax.set_xticklabels([\"\",*class_labels])\n",
            "/var/folders/q1/qjttjhc15mb146h6q363vh_80000gn/T/ipykernel_1010/980666082.py:10: UserWarning: FixedFormatter should only be used together with FixedLocator\n",
            "  ax.set_yticklabels([\"\",*class_labels])\n"
          ]
        },
        {
          "data": {
            "image/png": "[encoded data removed]",
            "text/plain": [
              "<Figure size 432x288 with 2 Axes>"
            ]
          },
          "metadata": {
            "needs_background": "light"
          },
          "output_type": "display_data"
        }
      ],
      "source": [
        "import matplotlib.pyplot as plt\n",
        "fig, ax = plt.subplots()\n",
        "plt.title(\"Confusion Matrix\")\n",
        "heatmap = ax.matshow(confusion_matrix_s,cmap='GnBu')\n",
        "plt.xlabel(\"Actual Class\")\n",
        "plt.ylabel(\"Predict Class\")\n",
        "plt.colorbar(heatmap)\n",
        "ax.xaxis.set_ticks_position('bottom')\n",
        "ax.set_xticklabels([\"\",*class_labels])\n",
        "ax.set_yticklabels([\"\",*class_labels])\n",
        "for (i, j), z in np.ndenumerate(confusion_matrix_s):\n",
        "    ax.text(j, i, '{:0.1f}'.format(z), ha='center', va='center')\n",
        "accuracy = np.trace(confusion_matrix_s)/np.sum(confusion_matrix_s)\n",
        "print(\"Accuracy: \", accuracy)"
      ]
    }
  ],
  "metadata": {
    "colab": {
      "name": "Untitled17.ipynb",
      "provenance": []
    },
    "kernelspec": {
      "display_name": "Python 3",
      "name": "python3"
    },
    "language_info": {
      "codemirror_mode": {
        "name": "ipython",
        "version": 3
      },
      "file_extension": ".py",
      "mimetype": "text/x-python",
      "name": "python",
      "nbconvert_exporter": "python",
      "pygments_lexer": "ipython3",
      "version": "3.8.12"
    }
  },
  "nbformat": 4,
  "nbformat_minor": 0
}
