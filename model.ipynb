{
  "cells": [
    {
      "cell_type": "markdown",
      "metadata": {
        "id": "cH-lIPn9wxoE"
      },
      "source": [
        "# Import Library"
      ]
    },
    {
      "cell_type": "code",
      "execution_count": 1,
      "metadata": {
        "id": "CojQ2nhlwzTH"
      },
      "outputs": [],
      "source": [
        "import numpy as np\n",
        "import pandas as pd\n",
        "import tensorflow as tf\n",
        "from sklearn.model_selection import train_test_split\n",
        "from tensorflow.keras.applications import VGG19, MobileNetV2 ,InceptionV3\n",
        "from tensorflow.keras.layers import AveragePooling2D, Dropout, Flatten, Dense, Input\n",
        "from tensorflow.keras.models import Model, load_model\n",
        "from tensorflow.keras.preprocessing.image import img_to_array, load_img"
      ]
    },
    {
      "cell_type": "markdown",
      "metadata": {
        "id": "05xAt1T7w3n4"
      },
      "source": [
        "# Read Dataset"
      ]
    },
    {
      "cell_type": "code",
      "execution_count": 2,
      "metadata": {
        "id": "MmTER8D-w2k9"
      },
      "outputs": [],
      "source": [
        "df = pd.read_csv(\"data.csv\")\n",
        "df[\"file_path\"] = df[\"mood\"]+'/'+df[\"filename\"].str.split(\".\",expand=True)[0]+\".png\""
      ]
    },
    {
      "cell_type": "code",
      "execution_count": 3,
      "metadata": {},
      "outputs": [
        {
          "data": {
            "text/html": [
              "<div>\n",
              "<style scoped>\n",
              "    .dataframe tbody tr th:only-of-type {\n",
              "        vertical-align: middle;\n",
              "    }\n",
              "\n",
              "    .dataframe tbody tr th {\n",
              "        vertical-align: top;\n",
              "    }\n",
              "\n",
              "    .dataframe thead th {\n",
              "        text-align: right;\n",
              "    }\n",
              "</style>\n",
              "<table border=\"1\" class=\"dataframe\">\n",
              "  <thead>\n",
              "    <tr style=\"text-align: right;\">\n",
              "      <th></th>\n",
              "      <th>filename</th>\n",
              "      <th>mood</th>\n",
              "      <th>file_path</th>\n",
              "    </tr>\n",
              "  </thead>\n",
              "  <tbody>\n",
              "    <tr>\n",
              "      <th>0</th>\n",
              "      <td>A Song For Mama_0.wav</td>\n",
              "      <td>Romance</td>\n",
              "      <td>Romance/A Song For Mama_0.png</td>\n",
              "    </tr>\n",
              "    <tr>\n",
              "      <th>1</th>\n",
              "      <td>A Song For Mama_1.wav</td>\n",
              "      <td>Romance</td>\n",
              "      <td>Romance/A Song For Mama_1.png</td>\n",
              "    </tr>\n",
              "    <tr>\n",
              "      <th>2</th>\n",
              "      <td>A Song For Mama_2.wav</td>\n",
              "      <td>Romance</td>\n",
              "      <td>Romance/A Song For Mama_2.png</td>\n",
              "    </tr>\n",
              "    <tr>\n",
              "      <th>3</th>\n",
              "      <td>A Song For Mama_3.wav</td>\n",
              "      <td>Romance</td>\n",
              "      <td>Romance/A Song For Mama_3.png</td>\n",
              "    </tr>\n",
              "    <tr>\n",
              "      <th>4</th>\n",
              "      <td>A Song For Mama_4.wav</td>\n",
              "      <td>Romance</td>\n",
              "      <td>Romance/A Song For Mama_4.png</td>\n",
              "    </tr>\n",
              "  </tbody>\n",
              "</table>\n",
              "</div>"
            ],
            "text/plain": [
              "                filename     mood                      file_path\n",
              "0  A Song For Mama_0.wav  Romance  Romance/A Song For Mama_0.png\n",
              "1  A Song For Mama_1.wav  Romance  Romance/A Song For Mama_1.png\n",
              "2  A Song For Mama_2.wav  Romance  Romance/A Song For Mama_2.png\n",
              "3  A Song For Mama_3.wav  Romance  Romance/A Song For Mama_3.png\n",
              "4  A Song For Mama_4.wav  Romance  Romance/A Song For Mama_4.png"
            ]
          },
          "execution_count": 3,
          "metadata": {},
          "output_type": "execute_result"
        }
      ],
      "source": [
        "df.head()"
      ]
    },
    {
      "cell_type": "code",
      "execution_count": 4,
      "metadata": {},
      "outputs": [
        {
          "data": {
            "text/plain": [
              "Anxious    485\n",
              "Romance    395\n",
              "Party      368\n",
              "Chill      347\n",
              "Sad        310\n",
              "Focus      301\n",
              "Name: mood, dtype: int64"
            ]
          },
          "execution_count": 4,
          "metadata": {},
          "output_type": "execute_result"
        }
      ],
      "source": [
        "df[\"mood\"].value_counts()"
      ]
    },
    {
      "cell_type": "markdown",
      "metadata": {
        "id": "Ds9BdLl5xB5r"
      },
      "source": [
        "# Define Constant"
      ]
    },
    {
      "cell_type": "code",
      "execution_count": 5,
      "metadata": {
        "id": "KiFsSwWJxDCr"
      },
      "outputs": [],
      "source": [
        "base_dir = \"spectogram/\"\n",
        "IMAGE_SIZE = 224\n",
        "BATCH_SIZE = 256"
      ]
    },
    {
      "cell_type": "markdown",
      "metadata": {
        "id": "gQS-ZtsMxPEA"
      },
      "source": [
        "# Split Dataset"
      ]
    },
    {
      "cell_type": "code",
      "execution_count": 6,
      "metadata": {
        "id": "8AjFLzxfxQyu"
      },
      "outputs": [],
      "source": [
        "# Train 0.75\n",
        "# Validate 0.15\n",
        "# Test 0.10\n",
        "df_train,  test_df = train_test_split(df,train_size=0.9,random_state=1941,stratify=df['mood'])\n",
        "train_df, val_df = train_test_split(df_train,test_size=1/6,random_state=1941,stratify=df_train['mood'])"
      ]
    },
    {
      "cell_type": "markdown",
      "metadata": {
        "id": "xxecLkfqxTZ7"
      },
      "source": [
        "# Load image to generator"
      ]
    },
    {
      "cell_type": "code",
      "execution_count": 7,
      "metadata": {
        "id": "hCYD6uZ5xRlQ"
      },
      "outputs": [
        {
          "name": "stdout",
          "output_type": "stream",
          "text": [
            "Found 1654 validated image filenames belonging to 6 classes.\n"
          ]
        }
      ],
      "source": [
        "from keras_preprocessing.image import ImageDataGenerator\n",
        "\n",
        "train_image_generator = ImageDataGenerator(rescale=1./255,)\n",
        "\n",
        "train_data = train_image_generator.flow_from_dataframe(\n",
        "    train_df,\n",
        "    directory=base_dir,\n",
        "    x_col=\"file_path\",\n",
        "    y_col=\"mood\",\n",
        "    class_mode=\"categorical\",\n",
        "    target_size=(IMAGE_SIZE,IMAGE_SIZE),\n",
        "    batch_size=BATCH_SIZE)"
      ]
    },
    {
      "cell_type": "code",
      "execution_count": 8,
      "metadata": {
        "id": "73r0Ch0HxaO8"
      },
      "outputs": [
        {
          "name": "stdout",
          "output_type": "stream",
          "text": [
            "Found 331 validated image filenames belonging to 6 classes.\n"
          ]
        }
      ],
      "source": [
        "val_image_generator = ImageDataGenerator(rescale=1./255)\n",
        "\n",
        "val_data = val_image_generator.flow_from_dataframe(\n",
        "    val_df,\n",
        "    directory=base_dir,\n",
        "    x_col=\"file_path\",\n",
        "    y_col=\"mood\",\n",
        "    class_mode=\"categorical\",\n",
        "    target_size=(IMAGE_SIZE,IMAGE_SIZE),\n",
        "    batch_size=BATCH_SIZE)"
      ]
    },
    {
      "cell_type": "code",
      "execution_count": 9,
      "metadata": {
        "id": "PV229XCexaqA"
      },
      "outputs": [
        {
          "name": "stdout",
          "output_type": "stream",
          "text": [
            "Found 221 validated image filenames belonging to 6 classes.\n"
          ]
        }
      ],
      "source": [
        "test_image_generator = ImageDataGenerator(rescale=1./255)\n",
        "\n",
        "test_data = test_image_generator.flow_from_dataframe(\n",
        "    test_df,\n",
        "    directory=base_dir,\n",
        "    x_col=\"file_path\",\n",
        "    y_col=\"mood\",\n",
        "    class_mode=\"categorical\",\n",
        "    target_size=(IMAGE_SIZE,IMAGE_SIZE),\n",
        "    batch_size=BATCH_SIZE)"
      ]
    },
    {
      "cell_type": "markdown",
      "metadata": {
        "id": "XXqpo-Rfxdjb"
      },
      "source": [
        "## Check Class indices"
      ]
    },
    {
      "cell_type": "code",
      "execution_count": 10,
      "metadata": {
        "id": "VMkEfdyNxc-r"
      },
      "outputs": [
        {
          "data": {
            "text/plain": [
              "{'Anxious': 0, 'Chill': 1, 'Focus': 2, 'Party': 3, 'Romance': 4, 'Sad': 5}"
            ]
          },
          "execution_count": 10,
          "metadata": {},
          "output_type": "execute_result"
        }
      ],
      "source": [
        "train_data.class_indices"
      ]
    },
    {
      "cell_type": "markdown",
      "metadata": {
        "id": "lNHqf5cqxyFj"
      },
      "source": [
        "# Create model"
      ]
    },
    {
      "cell_type": "code",
      "execution_count": 11,
      "metadata": {
        "id": "o2H6ek0fxfUt"
      },
      "outputs": [],
      "source": [
        "def get_mobilenet_model():\n",
        "  baseModel = MobileNetV2(weights=\"imagenet\", include_top=False, input_shape=(IMAGE_SIZE, IMAGE_SIZE, 3))\n",
        "  headModel = baseModel.output\n",
        "  headModel = AveragePooling2D(pool_size=(7, 7))(headModel)\n",
        "  headModel = Flatten(name=\"flatten\")(headModel)\n",
        "  headModel = Dense(128, activation=\"relu\")(headModel)\n",
        "  headModel = Dense(64, activation=\"relu\")(headModel)\n",
        "  headModel = Dropout(0.5)(headModel)\n",
        "  headModel = Dense(32, activation=\"relu\")(headModel)\n",
        "  headModel = Dense(6, activation=\"softmax\")(headModel)\n",
        "  model = Model(inputs=baseModel.input, outputs=headModel)\n",
        "  for layer in baseModel.layers:\n",
        "    layer.trainable = False\n",
        "  return model"
      ]
    },
    {
      "cell_type": "code",
      "execution_count": 12,
      "metadata": {
        "id": "mr_VzFzyx1kL"
      },
      "outputs": [
        {
          "name": "stdout",
          "output_type": "stream",
          "text": [
            "Metal device set to: Apple M1\n",
            "\n",
            "systemMemory: 16.00 GB\n",
            "maxCacheSize: 5.33 GB\n",
            "\n"
          ]
        },
        {
          "name": "stderr",
          "output_type": "stream",
          "text": [
            "2022-03-17 22:18:44.549070: I tensorflow/core/common_runtime/pluggable_device/pluggable_device_factory.cc:305] Could not identify NUMA node of platform GPU ID 0, defaulting to 0. Your kernel may not have been built with NUMA support.\n",
            "2022-03-17 22:18:44.549418: I tensorflow/core/common_runtime/pluggable_device/pluggable_device_factory.cc:271] Created TensorFlow device (/job:localhost/replica:0/task:0/device:GPU:0 with 0 MB memory) -> physical PluggableDevice (device: 0, name: METAL, pci bus id: <undefined>)\n"
          ]
        }
      ],
      "source": [
        "model = get_mobilenet_model()\n",
        "model_name = \"model.h5\""
      ]
    },
    {
      "cell_type": "code",
      "execution_count": 13,
      "metadata": {
        "id": "LrErFgJyx6mC"
      },
      "outputs": [],
      "source": [
        "model.compile(\n",
        "    loss='categorical_crossentropy',\n",
        "    optimizer=\"adam\",\n",
        "    metrics=['accuracy'])"
      ]
    },
    {
      "cell_type": "code",
      "execution_count": 14,
      "metadata": {
        "id": "3banICQ4x7ct"
      },
      "outputs": [],
      "source": [
        "model_checkpoint = tf.keras.callbacks.ModelCheckpoint(\n",
        "    \"models/\"+model_name, save_best_only=True)\n",
        "early_stopping = tf.keras.callbacks.EarlyStopping(patience=10)"
      ]
    },
    {
      "cell_type": "code",
      "execution_count": 15,
      "metadata": {
        "id": "mLnVUxtsx8bv"
      },
      "outputs": [
        {
          "name": "stdout",
          "output_type": "stream",
          "text": [
            "Epoch 1/100\n"
          ]
        },
        {
          "name": "stderr",
          "output_type": "stream",
          "text": [
            "2022-03-17 22:18:53.819957: W tensorflow/core/platform/profile_utils/cpu_utils.cc:128] Failed to get CPU frequency: 0 Hz\n",
            "2022-03-17 22:18:54.945888: I tensorflow/core/grappler/optimizers/custom_graph_optimizer_registry.cc:113] Plugin optimizer for device_type GPU is enabled.\n"
          ]
        },
        {
          "name": "stdout",
          "output_type": "stream",
          "text": [
            "7/7 [==============================] - ETA: 0s - loss: 1.8106 - accuracy: 0.2092"
          ]
        },
        {
          "name": "stderr",
          "output_type": "stream",
          "text": [
            "2022-03-17 22:19:06.887146: I tensorflow/core/grappler/optimizers/custom_graph_optimizer_registry.cc:113] Plugin optimizer for device_type GPU is enabled.\n"
          ]
        },
        {
          "name": "stdout",
          "output_type": "stream",
          "text": [
            "7/7 [==============================] - 15s 2s/step - loss: 1.8106 - accuracy: 0.2092 - val_loss: 1.7083 - val_accuracy: 0.2326\n",
            "Epoch 2/100\n",
            "7/7 [==============================] - 10s 1s/step - loss: 1.7304 - accuracy: 0.2394 - val_loss: 1.6565 - val_accuracy: 0.3172\n",
            "Epoch 3/100\n",
            "7/7 [==============================] - 10s 1s/step - loss: 1.6683 - accuracy: 0.2854 - val_loss: 1.5841 - val_accuracy: 0.3625\n",
            "Epoch 4/100\n",
            "7/7 [==============================] - 10s 1s/step - loss: 1.5947 - accuracy: 0.3374 - val_loss: 1.5214 - val_accuracy: 0.3807\n",
            "Epoch 5/100\n",
            "7/7 [==============================] - 10s 1s/step - loss: 1.5488 - accuracy: 0.3543 - val_loss: 1.4803 - val_accuracy: 0.4230\n",
            "Epoch 6/100\n",
            "7/7 [==============================] - 11s 2s/step - loss: 1.5090 - accuracy: 0.3912 - val_loss: 1.4288 - val_accuracy: 0.4199\n",
            "Epoch 7/100\n",
            "7/7 [==============================] - 10s 1s/step - loss: 1.4496 - accuracy: 0.4166 - val_loss: 1.3865 - val_accuracy: 0.4532\n",
            "Epoch 8/100\n",
            "7/7 [==============================] - 10s 2s/step - loss: 1.3991 - accuracy: 0.4414 - val_loss: 1.3550 - val_accuracy: 0.4562\n",
            "Epoch 9/100\n",
            "7/7 [==============================] - 11s 2s/step - loss: 1.3613 - accuracy: 0.4547 - val_loss: 1.3066 - val_accuracy: 0.4773\n",
            "Epoch 10/100\n",
            "7/7 [==============================] - 10s 1s/step - loss: 1.3000 - accuracy: 0.4831 - val_loss: 1.2730 - val_accuracy: 0.4955\n",
            "Epoch 11/100\n",
            "7/7 [==============================] - 10s 1s/step - loss: 1.2821 - accuracy: 0.4915 - val_loss: 1.2441 - val_accuracy: 0.5106\n",
            "Epoch 12/100\n",
            "7/7 [==============================] - 11s 2s/step - loss: 1.2270 - accuracy: 0.5097 - val_loss: 1.2373 - val_accuracy: 0.4985\n",
            "Epoch 13/100\n",
            "7/7 [==============================] - 10s 1s/step - loss: 1.1782 - accuracy: 0.5375 - val_loss: 1.2474 - val_accuracy: 0.5076\n",
            "Epoch 14/100\n",
            "7/7 [==============================] - 10s 2s/step - loss: 1.1469 - accuracy: 0.5399 - val_loss: 1.2056 - val_accuracy: 0.5287\n",
            "Epoch 15/100\n",
            "7/7 [==============================] - 10s 1s/step - loss: 1.1113 - accuracy: 0.5641 - val_loss: 1.1725 - val_accuracy: 0.5529\n",
            "Epoch 16/100\n",
            "7/7 [==============================] - 10s 2s/step - loss: 1.0998 - accuracy: 0.5707 - val_loss: 1.1588 - val_accuracy: 0.5559\n",
            "Epoch 17/100\n",
            "7/7 [==============================] - 10s 1s/step - loss: 1.0572 - accuracy: 0.6082 - val_loss: 1.1482 - val_accuracy: 0.5770\n",
            "Epoch 18/100\n",
            "7/7 [==============================] - 10s 2s/step - loss: 1.0069 - accuracy: 0.6082 - val_loss: 1.1314 - val_accuracy: 0.5801\n",
            "Epoch 19/100\n",
            "7/7 [==============================] - 10s 1s/step - loss: 0.9664 - accuracy: 0.6318 - val_loss: 1.1185 - val_accuracy: 0.5740\n",
            "Epoch 20/100\n",
            "7/7 [==============================] - 10s 1s/step - loss: 0.9615 - accuracy: 0.6445 - val_loss: 1.1169 - val_accuracy: 0.5861\n",
            "Epoch 21/100\n",
            "7/7 [==============================] - 10s 2s/step - loss: 0.9134 - accuracy: 0.6542 - val_loss: 1.1135 - val_accuracy: 0.5921\n",
            "Epoch 22/100\n",
            "7/7 [==============================] - 10s 2s/step - loss: 0.8887 - accuracy: 0.6669 - val_loss: 1.0872 - val_accuracy: 0.6042\n",
            "Epoch 23/100\n",
            "7/7 [==============================] - 10s 1s/step - loss: 0.8546 - accuracy: 0.6778 - val_loss: 1.0631 - val_accuracy: 0.6133\n",
            "Epoch 24/100\n",
            "7/7 [==============================] - 10s 1s/step - loss: 0.8372 - accuracy: 0.6989 - val_loss: 1.0638 - val_accuracy: 0.5982\n",
            "Epoch 25/100\n",
            "7/7 [==============================] - 10s 1s/step - loss: 0.8249 - accuracy: 0.6917 - val_loss: 1.0832 - val_accuracy: 0.5770\n",
            "Epoch 26/100\n",
            "7/7 [==============================] - 10s 1s/step - loss: 0.7919 - accuracy: 0.7056 - val_loss: 1.0624 - val_accuracy: 0.6133\n",
            "Epoch 27/100\n",
            "7/7 [==============================] - 10s 1s/step - loss: 0.7751 - accuracy: 0.7231 - val_loss: 1.0778 - val_accuracy: 0.6133\n",
            "Epoch 28/100\n",
            "7/7 [==============================] - 10s 1s/step - loss: 0.7291 - accuracy: 0.7291 - val_loss: 1.0576 - val_accuracy: 0.6344\n",
            "Epoch 29/100\n",
            "7/7 [==============================] - 10s 1s/step - loss: 0.7351 - accuracy: 0.7358 - val_loss: 1.0270 - val_accuracy: 0.6103\n",
            "Epoch 30/100\n",
            "7/7 [==============================] - 10s 1s/step - loss: 0.7078 - accuracy: 0.7485 - val_loss: 1.0168 - val_accuracy: 0.6405\n",
            "Epoch 31/100\n",
            "7/7 [==============================] - 10s 1s/step - loss: 0.6807 - accuracy: 0.7612 - val_loss: 1.1050 - val_accuracy: 0.6224\n",
            "Epoch 32/100\n",
            "7/7 [==============================] - 10s 1s/step - loss: 0.6408 - accuracy: 0.7775 - val_loss: 1.0929 - val_accuracy: 0.6314\n",
            "Epoch 33/100\n",
            "7/7 [==============================] - 10s 1s/step - loss: 0.6451 - accuracy: 0.7709 - val_loss: 1.0879 - val_accuracy: 0.6375\n",
            "Epoch 34/100\n",
            "7/7 [==============================] - 10s 1s/step - loss: 0.6360 - accuracy: 0.7745 - val_loss: 1.0651 - val_accuracy: 0.6344\n",
            "Epoch 35/100\n",
            "7/7 [==============================] - 10s 1s/step - loss: 0.6174 - accuracy: 0.7872 - val_loss: 1.1356 - val_accuracy: 0.6314\n",
            "Epoch 36/100\n",
            "7/7 [==============================] - 10s 1s/step - loss: 0.6114 - accuracy: 0.7884 - val_loss: 1.1104 - val_accuracy: 0.6284\n",
            "Epoch 37/100\n",
            "7/7 [==============================] - 10s 1s/step - loss: 0.5553 - accuracy: 0.8156 - val_loss: 1.0549 - val_accuracy: 0.6647\n",
            "Epoch 38/100\n",
            "7/7 [==============================] - 10s 1s/step - loss: 0.5279 - accuracy: 0.8241 - val_loss: 1.1551 - val_accuracy: 0.6163\n",
            "Epoch 39/100\n",
            "7/7 [==============================] - 10s 1s/step - loss: 0.5134 - accuracy: 0.8283 - val_loss: 1.0269 - val_accuracy: 0.6828\n",
            "Epoch 40/100\n",
            "7/7 [==============================] - 10s 1s/step - loss: 0.4803 - accuracy: 0.8380 - val_loss: 1.0427 - val_accuracy: 0.6556\n"
          ]
        }
      ],
      "source": [
        "EPOCHS = 100\n",
        "history = model.fit(train_data, epochs=EPOCHS, validation_data=val_data, batch_size=BATCH_SIZE, callbacks=[early_stopping, model_checkpoint])"
      ]
    },
    {
      "cell_type": "markdown",
      "metadata": {},
      "source": [
        "# Save Model"
      ]
    },
    {
      "cell_type": "code",
      "execution_count": 16,
      "metadata": {},
      "outputs": [],
      "source": [
        "model.save(\"models/\"+model_name)"
      ]
    },
    {
      "cell_type": "markdown",
      "metadata": {},
      "source": [
        "# Load Model"
      ]
    },
    {
      "cell_type": "code",
      "execution_count": 17,
      "metadata": {},
      "outputs": [],
      "source": [
        "model = load_model(\"models/\"+model_name)"
      ]
    },
    {
      "cell_type": "markdown",
      "metadata": {},
      "source": [
        "# Evaluate Model"
      ]
    },
    {
      "cell_type": "code",
      "execution_count": 18,
      "metadata": {},
      "outputs": [
        {
          "name": "stderr",
          "output_type": "stream",
          "text": [
            "2022-03-17 22:25:36.518726: I tensorflow/core/grappler/optimizers/custom_graph_optimizer_registry.cc:113] Plugin optimizer for device_type GPU is enabled.\n"
          ]
        },
        {
          "name": "stdout",
          "output_type": "stream",
          "text": [
            "Done:  10 Acc: 0.6\n",
            "Done:  20 Acc: 0.6\n",
            "Done:  30 Acc: 0.5667\n",
            "Done:  40 Acc: 0.55\n",
            "Done:  50 Acc: 0.6\n",
            "Done:  60 Acc: 0.65\n",
            "Done:  70 Acc: 0.6857\n",
            "Done:  80 Acc: 0.7\n",
            "Done:  90 Acc: 0.6889\n",
            "Done:  100 Acc: 0.69\n",
            "Done:  110 Acc: 0.6818\n",
            "Done:  120 Acc: 0.6583\n",
            "Done:  130 Acc: 0.6615\n",
            "Done:  140 Acc: 0.6643\n",
            "Done:  150 Acc: 0.66\n",
            "Done:  160 Acc: 0.6562\n",
            "Done:  170 Acc: 0.6588\n",
            "Done:  180 Acc: 0.6611\n",
            "Done:  190 Acc: 0.6579\n",
            "Done:  200 Acc: 0.66\n",
            "Done:  210 Acc: 0.6619\n",
            "Done:  220 Acc: 0.6636\n",
            "Accuracy:  0.6652\n"
          ]
        }
      ],
      "source": [
        "import os\n",
        "confusion_matrix_s = np.zeros(36).reshape(6,6)\n",
        "true = 0\n",
        "class_labels = list(train_data.class_indices.keys())\n",
        "count = 0\n",
        "for i in test_df.itertuples():\n",
        "    img = tf.keras.preprocessing.image.load_img(\n",
        "        os.path.join(base_dir,i[3]), target_size=(IMAGE_SIZE, IMAGE_SIZE)\n",
        "    )\n",
        "    img_array = tf.keras.preprocessing.image.img_to_array(img)\n",
        "    img_array = img_array / 255\n",
        "    img_array = img_array.reshape(1,IMAGE_SIZE,IMAGE_SIZE,3)\n",
        "    predictions = model.predict(img_array)\n",
        "    pred_class = class_labels[np.argmax(predictions)]   \n",
        "    row = class_labels.index(pred_class)\n",
        "    col = class_labels.index(i[2])\n",
        "    confusion_matrix_s[row][col] += 1\n",
        "    if pred_class == i[2]:\n",
        "        true+=1\n",
        "    count += 1\n",
        "    if count % 10 == 0:\n",
        "        print(\"Done: \",count, \"Acc:\", round(true/count,4))\n",
        "print(\"Accuracy: \", round(true/count,4))"
      ]
    },
    {
      "cell_type": "code",
      "execution_count": 19,
      "metadata": {},
      "outputs": [
        {
          "name": "stdout",
          "output_type": "stream",
          "text": [
            "Accuracy:  0.665158371040724\n"
          ]
        },
        {
          "name": "stderr",
          "output_type": "stream",
          "text": [
            "/var/folders/q1/qjttjhc15mb146h6q363vh_80000gn/T/ipykernel_6327/980666082.py:9: UserWarning: FixedFormatter should only be used together with FixedLocator\n",
            "  ax.set_xticklabels([\"\",*class_labels])\n",
            "/var/folders/q1/qjttjhc15mb146h6q363vh_80000gn/T/ipykernel_6327/980666082.py:10: UserWarning: FixedFormatter should only be used together with FixedLocator\n",
            "  ax.set_yticklabels([\"\",*class_labels])\n"
          ]
        },
        {
          "data": {
            "image/png": "[encoded data removed]",
            "text/plain": [
              "<Figure size 432x288 with 2 Axes>"
            ]
          },
          "metadata": {
            "needs_background": "light"
          },
          "output_type": "display_data"
        }
      ],
      "source": [
        "import matplotlib.pyplot as plt\n",
        "fig, ax = plt.subplots()\n",
        "plt.title(\"Confusion Matrix\")\n",
        "heatmap = ax.matshow(confusion_matrix_s,cmap='GnBu')\n",
        "plt.xlabel(\"Actual Class\")\n",
        "plt.ylabel(\"Predict Class\")\n",
        "plt.colorbar(heatmap)\n",
        "ax.xaxis.set_ticks_position('bottom')\n",
        "ax.set_xticklabels([\"\",*class_labels])\n",
        "ax.set_yticklabels([\"\",*class_labels])\n",
        "for (i, j), z in np.ndenumerate(confusion_matrix_s):\n",
        "    ax.text(j, i, '{:0.1f}'.format(z), ha='center', va='center')\n",
        "accuracy = np.trace(confusion_matrix_s)/np.sum(confusion_matrix_s)\n",
        "print(\"Accuracy: \", accuracy)"
      ]
    }
  ],
  "metadata": {
    "colab": {
      "name": "Untitled17.ipynb",
      "provenance": []
    },
    "kernelspec": {
      "display_name": "Python 3",
      "name": "python3"
    },
    "language_info": {
      "codemirror_mode": {
        "name": "ipython",
        "version": 3
      },
      "file_extension": ".py",
      "mimetype": "text/x-python",
      "name": "python",
      "nbconvert_exporter": "python",
      "pygments_lexer": "ipython3",
      "version": "3.8.12"
    }
  },
  "nbformat": 4,
  "nbformat_minor": 0
}
