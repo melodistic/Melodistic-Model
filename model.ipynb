{
  "cells": [
    {
      "cell_type": "markdown",
      "metadata": {
        "id": "cH-lIPn9wxoE"
      },
      "source": [
        "# Import Library"
      ]
    },
    {
      "cell_type": "code",
      "execution_count": 1,
      "metadata": {
        "id": "CojQ2nhlwzTH"
      },
      "outputs": [],
      "source": [
        "import numpy as np\n",
        "import pandas as pd\n",
        "import tensorflow as tf\n",
        "from sklearn.model_selection import train_test_split\n",
        "from tensorflow.keras.applications import VGG19, MobileNetV2 ,InceptionV3\n",
        "from tensorflow.keras.layers import AveragePooling2D, Dropout, Flatten, Dense, Input\n",
        "from tensorflow.keras.models import Model, load_model\n",
        "from tensorflow.keras.preprocessing.image import img_to_array, load_img"
      ]
    },
    {
      "cell_type": "markdown",
      "metadata": {
        "id": "05xAt1T7w3n4"
      },
      "source": [
        "# Read Dataset"
      ]
    },
    {
      "cell_type": "code",
      "execution_count": 12,
      "metadata": {
        "id": "MmTER8D-w2k9"
      },
      "outputs": [],
      "source": [
        "df = pd.read_csv(\"data.csv\")\n",
        "df[\"file_path\"] = df[\"mood\"]+'/'+df[\"filename\"].str.split(\".\",expand=True)[0]+\".png\""
      ]
    },
    {
      "cell_type": "code",
      "execution_count": 46,
      "metadata": {},
      "outputs": [
        {
          "data": {
            "text/plain": [
              "396"
            ]
          },
          "execution_count": 46,
          "metadata": {},
          "output_type": "execute_result"
        }
      ],
      "source": [
        "len(df)"
      ]
    },
    {
      "cell_type": "markdown",
      "metadata": {
        "id": "Ds9BdLl5xB5r"
      },
      "source": [
        "# Define Constant"
      ]
    },
    {
      "cell_type": "code",
      "execution_count": 13,
      "metadata": {
        "id": "KiFsSwWJxDCr"
      },
      "outputs": [],
      "source": [
        "base_dir = \"spectogram/\"\n",
        "IMAGE_SIZE = 256\n",
        "BATCH_SIZE = 128"
      ]
    },
    {
      "cell_type": "markdown",
      "metadata": {
        "id": "gQS-ZtsMxPEA"
      },
      "source": [
        "# Split Dataset"
      ]
    },
    {
      "cell_type": "code",
      "execution_count": 14,
      "metadata": {
        "id": "8AjFLzxfxQyu"
      },
      "outputs": [],
      "source": [
        "# Train 0.75\n",
        "# Validate 0.15\n",
        "# Test 0.10\n",
        "df_train,  test_df = train_test_split(df,train_size=0.9,random_state=1941,stratify=df['mood'])\n",
        "train_df, val_df = train_test_split(df_train,test_size=1/6,random_state=1941,stratify=df_train['mood'])"
      ]
    },
    {
      "cell_type": "markdown",
      "metadata": {
        "id": "xxecLkfqxTZ7"
      },
      "source": [
        "# Load image to generator"
      ]
    },
    {
      "cell_type": "code",
      "execution_count": 15,
      "metadata": {
        "id": "hCYD6uZ5xRlQ"
      },
      "outputs": [
        {
          "name": "stdout",
          "output_type": "stream",
          "text": [
            "Found 296 validated image filenames belonging to 6 classes.\n"
          ]
        }
      ],
      "source": [
        "from keras_preprocessing.image import ImageDataGenerator\n",
        "\n",
        "train_image_generator = ImageDataGenerator(rescale=1./255,)\n",
        "\n",
        "train_data = train_image_generator.flow_from_dataframe(\n",
        "    train_df,\n",
        "    directory=base_dir,\n",
        "    x_col=\"file_path\",\n",
        "    y_col=\"mood\",\n",
        "    class_mode=\"categorical\",\n",
        "    target_size=(IMAGE_SIZE,IMAGE_SIZE),\n",
        "    batch_size=BATCH_SIZE)"
      ]
    },
    {
      "cell_type": "code",
      "execution_count": 16,
      "metadata": {
        "id": "73r0Ch0HxaO8"
      },
      "outputs": [
        {
          "name": "stdout",
          "output_type": "stream",
          "text": [
            "Found 60 validated image filenames belonging to 6 classes.\n"
          ]
        }
      ],
      "source": [
        "val_image_generator = ImageDataGenerator(rescale=1./255)\n",
        "\n",
        "val_data = val_image_generator.flow_from_dataframe(\n",
        "    val_df,\n",
        "    directory=base_dir,\n",
        "    x_col=\"file_path\",\n",
        "    y_col=\"mood\",\n",
        "    class_mode=\"categorical\",\n",
        "    target_size=(IMAGE_SIZE,IMAGE_SIZE),\n",
        "    batch_size=BATCH_SIZE)"
      ]
    },
    {
      "cell_type": "code",
      "execution_count": 17,
      "metadata": {
        "id": "PV229XCexaqA"
      },
      "outputs": [
        {
          "name": "stdout",
          "output_type": "stream",
          "text": [
            "Found 40 validated image filenames belonging to 6 classes.\n"
          ]
        }
      ],
      "source": [
        "test_image_generator = ImageDataGenerator(rescale=1./255)\n",
        "\n",
        "test_data = test_image_generator.flow_from_dataframe(\n",
        "    test_df,\n",
        "    directory=base_dir,\n",
        "    x_col=\"file_path\",\n",
        "    y_col=\"mood\",\n",
        "    class_mode=\"categorical\",\n",
        "    target_size=(IMAGE_SIZE,IMAGE_SIZE),\n",
        "    batch_size=BATCH_SIZE)"
      ]
    },
    {
      "cell_type": "markdown",
      "metadata": {
        "id": "XXqpo-Rfxdjb"
      },
      "source": [
        "## Check Class indices"
      ]
    },
    {
      "cell_type": "code",
      "execution_count": 18,
      "metadata": {
        "id": "VMkEfdyNxc-r"
      },
      "outputs": [
        {
          "data": {
            "text/plain": [
              "{'Anxious': 0, 'Chill': 1, 'Focus': 2, 'Party': 3, 'Romance': 4, 'Sad': 5}"
            ]
          },
          "execution_count": 18,
          "metadata": {},
          "output_type": "execute_result"
        }
      ],
      "source": [
        "train_data.class_indices"
      ]
    },
    {
      "cell_type": "markdown",
      "metadata": {
        "id": "lNHqf5cqxyFj"
      },
      "source": [
        "# Create model"
      ]
    },
    {
      "cell_type": "code",
      "execution_count": 29,
      "metadata": {
        "id": "o2H6ek0fxfUt"
      },
      "outputs": [],
      "source": [
        "def get_mobilenet_model():\n",
        "  baseModel = MobileNetV2(weights=\"imagenet\", include_top=False, input_shape=(IMAGE_SIZE, IMAGE_SIZE, 3))\n",
        "  headModel = baseModel.output\n",
        "  headModel = AveragePooling2D(pool_size=(7, 7))(headModel)\n",
        "  headModel = Flatten(name=\"flatten\")(headModel)\n",
        "  headModel = Dense(128, activation=\"relu\")(headModel)\n",
        "  headModel = Dropout(0.3)(headModel)\n",
        "  headModel = Dense(64, activation=\"relu\")(headModel)\n",
        "  headModel = Dense(6, activation=\"softmax\")(headModel)\n",
        "  model = Model(inputs=baseModel.input, outputs=headModel)\n",
        "  for layer in baseModel.layers:\n",
        "    layer.trainable = False\n",
        "  return model"
      ]
    },
    {
      "cell_type": "code",
      "execution_count": 30,
      "metadata": {
        "id": "mr_VzFzyx1kL"
      },
      "outputs": [
        {
          "name": "stdout",
          "output_type": "stream",
          "text": [
            "WARNING:tensorflow:`input_shape` is undefined or non-square, or `rows` is not in [96, 128, 160, 192, 224]. Weights for input shape (224, 224) will be loaded as the default.\n"
          ]
        }
      ],
      "source": [
        "model = get_mobilenet_model()\n",
        "model_name = \"model.h5\""
      ]
    },
    {
      "cell_type": "code",
      "execution_count": 31,
      "metadata": {
        "id": "LrErFgJyx6mC"
      },
      "outputs": [],
      "source": [
        "model.compile(\n",
        "    loss='categorical_crossentropy',\n",
        "    # optimizer=tf.keras.optimizers.RMSprop(learning_rate=0.0001),\n",
        "    optimizer=\"adam\",\n",
        "    metrics=['accuracy'])"
      ]
    },
    {
      "cell_type": "code",
      "execution_count": 32,
      "metadata": {
        "id": "3banICQ4x7ct"
      },
      "outputs": [],
      "source": [
        "model_checkpoint = tf.keras.callbacks.ModelCheckpoint(\n",
        "    \"models/\"+model_name, save_best_only=True)\n",
        "early_stopping = tf.keras.callbacks.EarlyStopping(patience=3)"
      ]
    },
    {
      "cell_type": "code",
      "execution_count": 33,
      "metadata": {
        "id": "mLnVUxtsx8bv"
      },
      "outputs": [
        {
          "name": "stdout",
          "output_type": "stream",
          "text": [
            "Epoch 1/50\n"
          ]
        },
        {
          "name": "stderr",
          "output_type": "stream",
          "text": [
            "2022-03-09 20:09:54.158262: I tensorflow/core/grappler/optimizers/custom_graph_optimizer_registry.cc:113] Plugin optimizer for device_type GPU is enabled.\n"
          ]
        },
        {
          "name": "stdout",
          "output_type": "stream",
          "text": [
            "3/3 [==============================] - ETA: 0s - loss: 1.8489 - accuracy: 0.2568"
          ]
        },
        {
          "name": "stderr",
          "output_type": "stream",
          "text": [
            "2022-03-09 20:09:58.591290: I tensorflow/core/grappler/optimizers/custom_graph_optimizer_registry.cc:113] Plugin optimizer for device_type GPU is enabled.\n"
          ]
        },
        {
          "name": "stdout",
          "output_type": "stream",
          "text": [
            "3/3 [==============================] - 7s 1s/step - loss: 1.8489 - accuracy: 0.2568 - val_loss: 1.6329 - val_accuracy: 0.3333\n",
            "Epoch 2/50\n",
            "3/3 [==============================] - 3s 842ms/step - loss: 1.6368 - accuracy: 0.3446 - val_loss: 1.5019 - val_accuracy: 0.3833\n",
            "Epoch 3/50\n",
            "3/3 [==============================] - 3s 846ms/step - loss: 1.4912 - accuracy: 0.4291 - val_loss: 1.4088 - val_accuracy: 0.4333\n",
            "Epoch 4/50\n",
            "3/3 [==============================] - 3s 854ms/step - loss: 1.4095 - accuracy: 0.4257 - val_loss: 1.3068 - val_accuracy: 0.4833\n",
            "Epoch 5/50\n",
            "3/3 [==============================] - 2s 1s/step - loss: 1.3046 - accuracy: 0.5000 - val_loss: 1.2305 - val_accuracy: 0.5000\n",
            "Epoch 6/50\n",
            "3/3 [==============================] - 2s 772ms/step - loss: 1.2273 - accuracy: 0.5473 - val_loss: 1.1733 - val_accuracy: 0.5500\n",
            "Epoch 7/50\n",
            "3/3 [==============================] - 2s 758ms/step - loss: 1.1512 - accuracy: 0.5912 - val_loss: 1.1376 - val_accuracy: 0.5500\n",
            "Epoch 8/50\n",
            "3/3 [==============================] - 3s 835ms/step - loss: 1.0582 - accuracy: 0.6149 - val_loss: 1.0987 - val_accuracy: 0.6000\n",
            "Epoch 9/50\n",
            "3/3 [==============================] - 2s 761ms/step - loss: 1.0106 - accuracy: 0.6486 - val_loss: 1.0589 - val_accuracy: 0.6333\n",
            "Epoch 10/50\n",
            "3/3 [==============================] - 2s 935ms/step - loss: 0.9587 - accuracy: 0.6419 - val_loss: 1.0762 - val_accuracy: 0.5833\n",
            "Epoch 11/50\n",
            "3/3 [==============================] - 2s 758ms/step - loss: 0.9055 - accuracy: 0.6655 - val_loss: 1.0059 - val_accuracy: 0.6000\n",
            "Epoch 12/50\n",
            "3/3 [==============================] - 2s 759ms/step - loss: 0.8312 - accuracy: 0.6892 - val_loss: 0.9703 - val_accuracy: 0.6667\n",
            "Epoch 13/50\n",
            "3/3 [==============================] - 3s 834ms/step - loss: 0.8069 - accuracy: 0.7027 - val_loss: 0.9414 - val_accuracy: 0.7000\n",
            "Epoch 14/50\n",
            "3/3 [==============================] - 2s 943ms/step - loss: 0.7473 - accuracy: 0.7466 - val_loss: 0.9455 - val_accuracy: 0.6500\n",
            "Epoch 15/50\n",
            "3/3 [==============================] - 2s 763ms/step - loss: 0.7370 - accuracy: 0.7264 - val_loss: 0.9285 - val_accuracy: 0.6667\n",
            "Epoch 16/50\n",
            "3/3 [==============================] - 2s 938ms/step - loss: 0.6522 - accuracy: 0.7703 - val_loss: 0.9456 - val_accuracy: 0.6333\n",
            "Epoch 17/50\n",
            "3/3 [==============================] - 3s 827ms/step - loss: 0.6192 - accuracy: 0.8007 - val_loss: 0.8935 - val_accuracy: 0.6500\n",
            "Epoch 18/50\n",
            "3/3 [==============================] - 2s 1s/step - loss: 0.6351 - accuracy: 0.7905 - val_loss: 0.8603 - val_accuracy: 0.7333\n",
            "Epoch 19/50\n",
            "3/3 [==============================] - 3s 833ms/step - loss: 0.5935 - accuracy: 0.7872 - val_loss: 0.8510 - val_accuracy: 0.7167\n",
            "Epoch 20/50\n",
            "3/3 [==============================] - 2s 1s/step - loss: 0.5186 - accuracy: 0.8378 - val_loss: 0.8412 - val_accuracy: 0.6667\n",
            "Epoch 21/50\n",
            "3/3 [==============================] - 2s 925ms/step - loss: 0.5163 - accuracy: 0.8412 - val_loss: 0.8644 - val_accuracy: 0.6500\n",
            "Epoch 22/50\n",
            "3/3 [==============================] - 3s 826ms/step - loss: 0.4699 - accuracy: 0.8716 - val_loss: 0.7963 - val_accuracy: 0.7167\n",
            "Epoch 23/50\n",
            "3/3 [==============================] - 2s 923ms/step - loss: 0.4369 - accuracy: 0.8649 - val_loss: 0.8093 - val_accuracy: 0.7167\n",
            "Epoch 24/50\n",
            "3/3 [==============================] - 2s 756ms/step - loss: 0.4141 - accuracy: 0.8851 - val_loss: 0.7840 - val_accuracy: 0.7167\n",
            "Epoch 25/50\n",
            "3/3 [==============================] - 3s 807ms/step - loss: 0.4065 - accuracy: 0.8986 - val_loss: 0.7719 - val_accuracy: 0.7333\n",
            "Epoch 26/50\n",
            "3/3 [==============================] - 2s 1s/step - loss: 0.3763 - accuracy: 0.8986 - val_loss: 0.7116 - val_accuracy: 0.7500\n",
            "Epoch 27/50\n",
            "3/3 [==============================] - 2s 928ms/step - loss: 0.3660 - accuracy: 0.8885 - val_loss: 0.7152 - val_accuracy: 0.7333\n",
            "Epoch 28/50\n",
            "3/3 [==============================] - 2s 964ms/step - loss: 0.3293 - accuracy: 0.9020 - val_loss: 0.7185 - val_accuracy: 0.7333\n",
            "Epoch 29/50\n",
            "3/3 [==============================] - 2s 677ms/step - loss: 0.3271 - accuracy: 0.9122 - val_loss: 0.7246 - val_accuracy: 0.7333\n"
          ]
        }
      ],
      "source": [
        "EPOCHS = 50\n",
        "history = model.fit(train_data, epochs=EPOCHS, validation_data=val_data, batch_size=256, callbacks=[early_stopping, model_checkpoint])"
      ]
    },
    {
      "cell_type": "code",
      "execution_count": 44,
      "metadata": {},
      "outputs": [
        {
          "name": "stdout",
          "output_type": "stream",
          "text": [
            "Done:  10 Acc: 0.7\n",
            "Done:  20 Acc: 0.75\n",
            "Done:  30 Acc: 0.7333\n",
            "Done:  40 Acc: 0.775\n"
          ]
        }
      ],
      "source": [
        "import os\n",
        "confusion_matrix_s = np.zeros(36).reshape(6,6)\n",
        "true = 0\n",
        "class_labels = list(train_data.class_indices.keys())\n",
        "count = 0\n",
        "for i in test_df.itertuples():\n",
        "    img = tf.keras.preprocessing.image.load_img(\n",
        "        os.path.join(base_dir,i[3]), target_size=(IMAGE_SIZE, IMAGE_SIZE)\n",
        "    )\n",
        "    img_array = tf.keras.preprocessing.image.img_to_array(img)\n",
        "    img_array = img_array / 255\n",
        "    img_array = img_array.reshape(1,IMAGE_SIZE,IMAGE_SIZE,3)\n",
        "    predictions = model.predict(img_array)\n",
        "    pred_class = class_labels[np.argmax(predictions)]   \n",
        "    row = class_labels.index(pred_class)\n",
        "    col = class_labels.index(i[2])\n",
        "    confusion_matrix_s[row][col] += 1\n",
        "    if pred_class == i[2]:\n",
        "        true+=1\n",
        "    count += 1\n",
        "    if count % 10 == 0:\n",
        "        print(\"Done: \",count, \"Acc:\", round(true/count,4))"
      ]
    },
    {
      "cell_type": "markdown",
      "metadata": {},
      "source": [
        "# Save Model"
      ]
    },
    {
      "cell_type": "code",
      "execution_count": null,
      "metadata": {},
      "outputs": [],
      "source": [
        "model.save(\"models/\"+model_name)"
      ]
    },
    {
      "cell_type": "markdown",
      "metadata": {},
      "source": [
        "# Load Model"
      ]
    },
    {
      "cell_type": "code",
      "execution_count": null,
      "metadata": {},
      "outputs": [],
      "source": [
        "model = load_model(\"models/\"+model_name)"
      ]
    },
    {
      "cell_type": "markdown",
      "metadata": {},
      "source": [
        "# Evaluate Model"
      ]
    },
    {
      "cell_type": "code",
      "execution_count": 45,
      "metadata": {},
      "outputs": [
        {
          "name": "stdout",
          "output_type": "stream",
          "text": [
            "0.775\n"
          ]
        },
        {
          "name": "stderr",
          "output_type": "stream",
          "text": [
            "/var/folders/q1/qjttjhc15mb146h6q363vh_80000gn/T/ipykernel_5802/873049592.py:9: UserWarning: FixedFormatter should only be used together with FixedLocator\n",
            "  ax.set_xticklabels([\"\",*class_labels])\n",
            "/var/folders/q1/qjttjhc15mb146h6q363vh_80000gn/T/ipykernel_5802/873049592.py:10: UserWarning: FixedFormatter should only be used together with FixedLocator\n",
            "  ax.set_yticklabels([\"\",*class_labels])\n"
          ]
        },
        {
          "data": {
            "image/png": "[encoded data removed]",
            "text/plain": [
              "<Figure size 432x288 with 2 Axes>"
            ]
          },
          "metadata": {
            "needs_background": "light"
          },
          "output_type": "display_data"
        }
      ],
      "source": [
        "import matplotlib.pyplot as plt\n",
        "fig, ax = plt.subplots()\n",
        "plt.title(\"Confusion Matrix\")\n",
        "heatmap = ax.matshow(confusion_matrix_s,cmap='GnBu')\n",
        "plt.xlabel(\"Actual Class\")\n",
        "plt.ylabel(\"Predict Class\")\n",
        "plt.colorbar(heatmap)\n",
        "ax.xaxis.set_ticks_position('bottom')\n",
        "ax.set_xticklabels([\"\",*class_labels])\n",
        "ax.set_yticklabels([\"\",*class_labels])\n",
        "for (i, j), z in np.ndenumerate(confusion_matrix_s):\n",
        "    ax.text(j, i, '{:0.1f}'.format(z), ha='center', va='center')\n",
        "accuracy = np.trace(confusion_matrix_s)/np.sum(confusion_matrix_s)\n",
        "print(accuracy)"
      ]
    }
  ],
  "metadata": {
    "colab": {
      "name": "Untitled17.ipynb",
      "provenance": []
    },
    "kernelspec": {
      "display_name": "Python 3",
      "name": "python3"
    },
    "language_info": {
      "codemirror_mode": {
        "name": "ipython",
        "version": 3
      },
      "file_extension": ".py",
      "mimetype": "text/x-python",
      "name": "python",
      "nbconvert_exporter": "python",
      "pygments_lexer": "ipython3",
      "version": "3.8.12"
    }
  },
  "nbformat": 4,
  "nbformat_minor": 0
}
