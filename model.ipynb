{
  "cells": [
    {
      "cell_type": "markdown",
      "metadata": {
        "id": "cH-lIPn9wxoE"
      },
      "source": [
        "# Import Library"
      ]
    },
    {
      "cell_type": "code",
      "execution_count": 1,
      "metadata": {
        "id": "CojQ2nhlwzTH"
      },
      "outputs": [],
      "source": [
        "import numpy as np\n",
        "import pandas as pd\n",
        "import tensorflow as tf\n",
        "from sklearn.model_selection import train_test_split\n",
        "from tensorflow.keras.applications import VGG19, MobileNetV2 ,InceptionV3\n",
        "from tensorflow.keras.layers import AveragePooling2D, Dropout, Flatten, Dense, Input\n",
        "from tensorflow.keras.models import Model, load_model\n",
        "from tensorflow.keras.preprocessing.image import img_to_array, load_img"
      ]
    },
    {
      "cell_type": "markdown",
      "metadata": {
        "id": "05xAt1T7w3n4"
      },
      "source": [
        "# Read Dataset"
      ]
    },
    {
      "cell_type": "code",
      "execution_count": 2,
      "metadata": {
        "id": "MmTER8D-w2k9"
      },
      "outputs": [],
      "source": [
        "df = pd.read_csv(\"data.csv\")\n",
        "df[\"file_path\"] = df[\"mood\"]+'/'+df[\"filename\"].str.split(\".\",expand=True)[0]+\".png\""
      ]
    },
    {
      "cell_type": "code",
      "execution_count": 3,
      "metadata": {},
      "outputs": [
        {
          "data": {
            "text/html": [
              "<div>\n",
              "<style scoped>\n",
              "    .dataframe tbody tr th:only-of-type {\n",
              "        vertical-align: middle;\n",
              "    }\n",
              "\n",
              "    .dataframe tbody tr th {\n",
              "        vertical-align: top;\n",
              "    }\n",
              "\n",
              "    .dataframe thead th {\n",
              "        text-align: right;\n",
              "    }\n",
              "</style>\n",
              "<table border=\"1\" class=\"dataframe\">\n",
              "  <thead>\n",
              "    <tr style=\"text-align: right;\">\n",
              "      <th></th>\n",
              "      <th>filename</th>\n",
              "      <th>mood</th>\n",
              "      <th>file_path</th>\n",
              "    </tr>\n",
              "  </thead>\n",
              "  <tbody>\n",
              "    <tr>\n",
              "      <th>0</th>\n",
              "      <td>A Song For Mama_0.wav</td>\n",
              "      <td>Romance</td>\n",
              "      <td>Romance/A Song For Mama_0.png</td>\n",
              "    </tr>\n",
              "    <tr>\n",
              "      <th>1</th>\n",
              "      <td>A Song For Mama_1.wav</td>\n",
              "      <td>Romance</td>\n",
              "      <td>Romance/A Song For Mama_1.png</td>\n",
              "    </tr>\n",
              "    <tr>\n",
              "      <th>2</th>\n",
              "      <td>A Song For Mama_2.wav</td>\n",
              "      <td>Romance</td>\n",
              "      <td>Romance/A Song For Mama_2.png</td>\n",
              "    </tr>\n",
              "    <tr>\n",
              "      <th>3</th>\n",
              "      <td>A Song For Mama_3.wav</td>\n",
              "      <td>Romance</td>\n",
              "      <td>Romance/A Song For Mama_3.png</td>\n",
              "    </tr>\n",
              "    <tr>\n",
              "      <th>4</th>\n",
              "      <td>A Song For Mama_4.wav</td>\n",
              "      <td>Romance</td>\n",
              "      <td>Romance/A Song For Mama_4.png</td>\n",
              "    </tr>\n",
              "  </tbody>\n",
              "</table>\n",
              "</div>"
            ],
            "text/plain": [
              "                filename     mood                      file_path\n",
              "0  A Song For Mama_0.wav  Romance  Romance/A Song For Mama_0.png\n",
              "1  A Song For Mama_1.wav  Romance  Romance/A Song For Mama_1.png\n",
              "2  A Song For Mama_2.wav  Romance  Romance/A Song For Mama_2.png\n",
              "3  A Song For Mama_3.wav  Romance  Romance/A Song For Mama_3.png\n",
              "4  A Song For Mama_4.wav  Romance  Romance/A Song For Mama_4.png"
            ]
          },
          "execution_count": 3,
          "metadata": {},
          "output_type": "execute_result"
        }
      ],
      "source": [
        "df.head()"
      ]
    },
    {
      "cell_type": "code",
      "execution_count": 4,
      "metadata": {},
      "outputs": [
        {
          "data": {
            "text/plain": [
              "Romance    395\n",
              "Party      368\n",
              "Chill      347\n",
              "Anxious    343\n",
              "Focus      301\n",
              "Sad        271\n",
              "Name: mood, dtype: int64"
            ]
          },
          "execution_count": 4,
          "metadata": {},
          "output_type": "execute_result"
        }
      ],
      "source": [
        "df[\"mood\"].value_counts()"
      ]
    },
    {
      "cell_type": "markdown",
      "metadata": {
        "id": "Ds9BdLl5xB5r"
      },
      "source": [
        "# Define Constant"
      ]
    },
    {
      "cell_type": "code",
      "execution_count": 5,
      "metadata": {
        "id": "KiFsSwWJxDCr"
      },
      "outputs": [],
      "source": [
        "base_dir = \"spectogram/\"\n",
        "IMAGE_SIZE = 224\n",
        "BATCH_SIZE = 128"
      ]
    },
    {
      "cell_type": "markdown",
      "metadata": {
        "id": "gQS-ZtsMxPEA"
      },
      "source": [
        "# Split Dataset"
      ]
    },
    {
      "cell_type": "code",
      "execution_count": 6,
      "metadata": {
        "id": "8AjFLzxfxQyu"
      },
      "outputs": [],
      "source": [
        "# Train 0.75\n",
        "# Validate 0.15\n",
        "# Test 0.10\n",
        "df_train,  test_df = train_test_split(df,train_size=0.9,random_state=1941,stratify=df['mood'])\n",
        "train_df, val_df = train_test_split(df_train,test_size=1/6,random_state=1941,stratify=df_train['mood'])"
      ]
    },
    {
      "cell_type": "markdown",
      "metadata": {
        "id": "xxecLkfqxTZ7"
      },
      "source": [
        "# Load image to generator"
      ]
    },
    {
      "cell_type": "code",
      "execution_count": 7,
      "metadata": {
        "id": "hCYD6uZ5xRlQ"
      },
      "outputs": [
        {
          "name": "stdout",
          "output_type": "stream",
          "text": [
            "Found 1518 validated image filenames belonging to 6 classes.\n"
          ]
        }
      ],
      "source": [
        "from keras_preprocessing.image import ImageDataGenerator\n",
        "\n",
        "train_image_generator = ImageDataGenerator(rescale=1./255,)\n",
        "\n",
        "train_data = train_image_generator.flow_from_dataframe(\n",
        "    train_df,\n",
        "    directory=base_dir,\n",
        "    x_col=\"file_path\",\n",
        "    y_col=\"mood\",\n",
        "    class_mode=\"categorical\",\n",
        "    target_size=(IMAGE_SIZE,IMAGE_SIZE),\n",
        "    batch_size=BATCH_SIZE)"
      ]
    },
    {
      "cell_type": "code",
      "execution_count": 8,
      "metadata": {
        "id": "73r0Ch0HxaO8"
      },
      "outputs": [
        {
          "name": "stdout",
          "output_type": "stream",
          "text": [
            "Found 304 validated image filenames belonging to 6 classes.\n"
          ]
        }
      ],
      "source": [
        "val_image_generator = ImageDataGenerator(rescale=1./255)\n",
        "\n",
        "val_data = val_image_generator.flow_from_dataframe(\n",
        "    val_df,\n",
        "    directory=base_dir,\n",
        "    x_col=\"file_path\",\n",
        "    y_col=\"mood\",\n",
        "    class_mode=\"categorical\",\n",
        "    target_size=(IMAGE_SIZE,IMAGE_SIZE),\n",
        "    batch_size=BATCH_SIZE)"
      ]
    },
    {
      "cell_type": "code",
      "execution_count": 9,
      "metadata": {
        "id": "PV229XCexaqA"
      },
      "outputs": [
        {
          "name": "stdout",
          "output_type": "stream",
          "text": [
            "Found 203 validated image filenames belonging to 6 classes.\n"
          ]
        }
      ],
      "source": [
        "test_image_generator = ImageDataGenerator(rescale=1./255)\n",
        "\n",
        "test_data = test_image_generator.flow_from_dataframe(\n",
        "    test_df,\n",
        "    directory=base_dir,\n",
        "    x_col=\"file_path\",\n",
        "    y_col=\"mood\",\n",
        "    class_mode=\"categorical\",\n",
        "    target_size=(IMAGE_SIZE,IMAGE_SIZE),\n",
        "    batch_size=BATCH_SIZE)"
      ]
    },
    {
      "cell_type": "markdown",
      "metadata": {
        "id": "XXqpo-Rfxdjb"
      },
      "source": [
        "## Check Class indices"
      ]
    },
    {
      "cell_type": "code",
      "execution_count": 10,
      "metadata": {
        "id": "VMkEfdyNxc-r"
      },
      "outputs": [
        {
          "data": {
            "text/plain": [
              "{'Anxious': 0, 'Chill': 1, 'Focus': 2, 'Party': 3, 'Romance': 4, 'Sad': 5}"
            ]
          },
          "execution_count": 10,
          "metadata": {},
          "output_type": "execute_result"
        }
      ],
      "source": [
        "train_data.class_indices"
      ]
    },
    {
      "cell_type": "markdown",
      "metadata": {
        "id": "lNHqf5cqxyFj"
      },
      "source": [
        "# Create model"
      ]
    },
    {
      "cell_type": "code",
      "execution_count": 11,
      "metadata": {
        "id": "o2H6ek0fxfUt"
      },
      "outputs": [],
      "source": [
        "def get_mobilenet_model():\n",
        "  baseModel = MobileNetV2(weights=\"imagenet\", include_top=False, input_shape=(IMAGE_SIZE, IMAGE_SIZE, 3))\n",
        "  headModel = baseModel.output\n",
        "  headModel = AveragePooling2D(pool_size=(7, 7))(headModel)\n",
        "  headModel = Flatten(name=\"flatten\")(headModel)\n",
        "  headModel = Dense(128, activation=\"relu\")(headModel)\n",
        "  headModel = Dense(64, activation=\"relu\")(headModel)\n",
        "  headModel = Dropout(0.5)(headModel)\n",
        "  headModel = Dense(32, activation=\"relu\")(headModel)\n",
        "  headModel = Dense(6, activation=\"softmax\")(headModel)\n",
        "  model = Model(inputs=baseModel.input, outputs=headModel)\n",
        "  for layer in baseModel.layers:\n",
        "    layer.trainable = False\n",
        "  return model"
      ]
    },
    {
      "cell_type": "code",
      "execution_count": 12,
      "metadata": {
        "id": "mr_VzFzyx1kL"
      },
      "outputs": [
        {
          "name": "stderr",
          "output_type": "stream",
          "text": [
            "2022-03-18 15:56:41.010685: I tensorflow/core/common_runtime/pluggable_device/pluggable_device_factory.cc:305] Could not identify NUMA node of platform GPU ID 0, defaulting to 0. Your kernel may not have been built with NUMA support.\n",
            "2022-03-18 15:56:41.010779: I tensorflow/core/common_runtime/pluggable_device/pluggable_device_factory.cc:271] Created TensorFlow device (/job:localhost/replica:0/task:0/device:GPU:0 with 0 MB memory) -> physical PluggableDevice (device: 0, name: METAL, pci bus id: <undefined>)\n"
          ]
        },
        {
          "name": "stdout",
          "output_type": "stream",
          "text": [
            "Metal device set to: Apple M1\n",
            "\n",
            "systemMemory: 16.00 GB\n",
            "maxCacheSize: 5.33 GB\n",
            "\n"
          ]
        }
      ],
      "source": [
        "model = get_mobilenet_model()\n",
        "model_name = \"model.h5\""
      ]
    },
    {
      "cell_type": "code",
      "execution_count": 13,
      "metadata": {
        "id": "LrErFgJyx6mC"
      },
      "outputs": [],
      "source": [
        "model.compile(\n",
        "    loss='categorical_crossentropy',\n",
        "    optimizer=\"adam\",\n",
        "    metrics=['accuracy'])"
      ]
    },
    {
      "cell_type": "code",
      "execution_count": 14,
      "metadata": {
        "id": "3banICQ4x7ct"
      },
      "outputs": [],
      "source": [
        "model_checkpoint = tf.keras.callbacks.ModelCheckpoint(\n",
        "    \"models/\"+model_name, save_best_only=True)\n",
        "early_stopping = tf.keras.callbacks.EarlyStopping(patience=10)"
      ]
    },
    {
      "cell_type": "code",
      "execution_count": 15,
      "metadata": {
        "id": "mLnVUxtsx8bv"
      },
      "outputs": [
        {
          "name": "stdout",
          "output_type": "stream",
          "text": [
            "Epoch 1/100\n"
          ]
        },
        {
          "name": "stderr",
          "output_type": "stream",
          "text": [
            "2022-03-18 15:57:02.790897: W tensorflow/core/platform/profile_utils/cpu_utils.cc:128] Failed to get CPU frequency: 0 Hz\n",
            "2022-03-18 15:57:03.915404: I tensorflow/core/grappler/optimizers/custom_graph_optimizer_registry.cc:113] Plugin optimizer for device_type GPU is enabled.\n"
          ]
        },
        {
          "name": "stdout",
          "output_type": "stream",
          "text": [
            "12/12 [==============================] - ETA: 0s - loss: 1.6729 - accuracy: 0.2905"
          ]
        },
        {
          "name": "stderr",
          "output_type": "stream",
          "text": [
            "2022-03-18 15:57:10.975914: I tensorflow/core/grappler/optimizers/custom_graph_optimizer_registry.cc:113] Plugin optimizer for device_type GPU is enabled.\n"
          ]
        },
        {
          "name": "stdout",
          "output_type": "stream",
          "text": [
            "12/12 [==============================] - 10s 722ms/step - loss: 1.6729 - accuracy: 0.2905 - val_loss: 1.4151 - val_accuracy: 0.4243\n",
            "Epoch 2/100\n",
            "12/12 [==============================] - 8s 668ms/step - loss: 1.4274 - accuracy: 0.4018 - val_loss: 1.2254 - val_accuracy: 0.5428\n",
            "Epoch 3/100\n",
            "12/12 [==============================] - 8s 661ms/step - loss: 1.2920 - accuracy: 0.4743 - val_loss: 1.1590 - val_accuracy: 0.5592\n",
            "Epoch 4/100\n",
            "12/12 [==============================] - 8s 657ms/step - loss: 1.1935 - accuracy: 0.5283 - val_loss: 1.0550 - val_accuracy: 0.5789\n",
            "Epoch 5/100\n",
            "12/12 [==============================] - 8s 668ms/step - loss: 1.0939 - accuracy: 0.5659 - val_loss: 1.0135 - val_accuracy: 0.5987\n",
            "Epoch 6/100\n",
            "12/12 [==============================] - 9s 754ms/step - loss: 1.0461 - accuracy: 0.5738 - val_loss: 0.9312 - val_accuracy: 0.6645\n",
            "Epoch 7/100\n",
            "12/12 [==============================] - 9s 740ms/step - loss: 0.9611 - accuracy: 0.6159 - val_loss: 0.9024 - val_accuracy: 0.6414\n",
            "Epoch 8/100\n",
            "12/12 [==============================] - 8s 686ms/step - loss: 0.9259 - accuracy: 0.6344 - val_loss: 0.8399 - val_accuracy: 0.6842\n",
            "Epoch 9/100\n",
            "12/12 [==============================] - 8s 681ms/step - loss: 0.8729 - accuracy: 0.6594 - val_loss: 0.8365 - val_accuracy: 0.6579\n",
            "Epoch 10/100\n",
            "12/12 [==============================] - 8s 670ms/step - loss: 0.8309 - accuracy: 0.6910 - val_loss: 0.8208 - val_accuracy: 0.6875\n",
            "Epoch 11/100\n",
            "12/12 [==============================] - 9s 764ms/step - loss: 0.7801 - accuracy: 0.6970 - val_loss: 0.7721 - val_accuracy: 0.6908\n",
            "Epoch 12/100\n",
            "12/12 [==============================] - 9s 729ms/step - loss: 0.7288 - accuracy: 0.7233 - val_loss: 0.7665 - val_accuracy: 0.6875\n",
            "Epoch 13/100\n",
            "12/12 [==============================] - 8s 671ms/step - loss: 0.7210 - accuracy: 0.7260 - val_loss: 0.7568 - val_accuracy: 0.7105\n",
            "Epoch 14/100\n",
            "12/12 [==============================] - 8s 679ms/step - loss: 0.6289 - accuracy: 0.7714 - val_loss: 0.7474 - val_accuracy: 0.6974\n",
            "Epoch 15/100\n",
            "12/12 [==============================] - 8s 663ms/step - loss: 0.6086 - accuracy: 0.7787 - val_loss: 0.8109 - val_accuracy: 0.6908\n",
            "Epoch 16/100\n",
            "12/12 [==============================] - 8s 662ms/step - loss: 0.5755 - accuracy: 0.7872 - val_loss: 0.7009 - val_accuracy: 0.7401\n",
            "Epoch 17/100\n",
            "12/12 [==============================] - 8s 642ms/step - loss: 0.5709 - accuracy: 0.7859 - val_loss: 0.7728 - val_accuracy: 0.7072\n",
            "Epoch 18/100\n",
            "12/12 [==============================] - 8s 644ms/step - loss: 0.5612 - accuracy: 0.8004 - val_loss: 0.7095 - val_accuracy: 0.7303\n",
            "Epoch 19/100\n",
            "12/12 [==============================] - 8s 647ms/step - loss: 0.5021 - accuracy: 0.8235 - val_loss: 0.7330 - val_accuracy: 0.7171\n",
            "Epoch 20/100\n",
            "12/12 [==============================] - 8s 660ms/step - loss: 0.4716 - accuracy: 0.8406 - val_loss: 0.7093 - val_accuracy: 0.7270\n",
            "Epoch 21/100\n",
            "12/12 [==============================] - 8s 649ms/step - loss: 0.4180 - accuracy: 0.8505 - val_loss: 0.7707 - val_accuracy: 0.7237\n",
            "Epoch 22/100\n",
            "12/12 [==============================] - 8s 652ms/step - loss: 0.4267 - accuracy: 0.8505 - val_loss: 0.7476 - val_accuracy: 0.7270\n",
            "Epoch 23/100\n",
            "12/12 [==============================] - 8s 647ms/step - loss: 0.4017 - accuracy: 0.8491 - val_loss: 0.7313 - val_accuracy: 0.7237\n",
            "Epoch 24/100\n",
            "12/12 [==============================] - 8s 651ms/step - loss: 0.3526 - accuracy: 0.8827 - val_loss: 0.7319 - val_accuracy: 0.7401\n",
            "Epoch 25/100\n",
            "12/12 [==============================] - 8s 653ms/step - loss: 0.3318 - accuracy: 0.8979 - val_loss: 0.7357 - val_accuracy: 0.7434\n",
            "Epoch 26/100\n",
            "12/12 [==============================] - 8s 649ms/step - loss: 0.3387 - accuracy: 0.8768 - val_loss: 0.7203 - val_accuracy: 0.7368\n"
          ]
        }
      ],
      "source": [
        "EPOCHS = 100\n",
        "history = model.fit(train_data, epochs=EPOCHS, validation_data=val_data, batch_size=BATCH_SIZE, callbacks=[early_stopping, model_checkpoint])"
      ]
    },
    {
      "cell_type": "markdown",
      "metadata": {},
      "source": [
        "# Save Model"
      ]
    },
    {
      "cell_type": "code",
      "execution_count": 16,
      "metadata": {},
      "outputs": [],
      "source": [
        "model.save(\"models/\"+model_name)"
      ]
    },
    {
      "cell_type": "markdown",
      "metadata": {},
      "source": [
        "# Load Model"
      ]
    },
    {
      "cell_type": "code",
      "execution_count": 17,
      "metadata": {},
      "outputs": [],
      "source": [
        "model = load_model(\"models/\"+model_name)"
      ]
    },
    {
      "cell_type": "markdown",
      "metadata": {},
      "source": [
        "# Evaluate Model"
      ]
    },
    {
      "cell_type": "code",
      "execution_count": 16,
      "metadata": {},
      "outputs": [
        {
          "name": "stderr",
          "output_type": "stream",
          "text": [
            "2022-03-18 16:00:52.127902: I tensorflow/core/grappler/optimizers/custom_graph_optimizer_registry.cc:113] Plugin optimizer for device_type GPU is enabled.\n"
          ]
        },
        {
          "name": "stdout",
          "output_type": "stream",
          "text": [
            "Done:  10 Acc: 0.6\n",
            "Done:  20 Acc: 0.75\n",
            "Done:  30 Acc: 0.8\n",
            "Done:  40 Acc: 0.775\n",
            "Done:  50 Acc: 0.76\n",
            "Done:  60 Acc: 0.7333\n",
            "Done:  70 Acc: 0.7\n",
            "Done:  80 Acc: 0.7125\n",
            "Done:  90 Acc: 0.7111\n",
            "Done:  100 Acc: 0.72\n",
            "Done:  110 Acc: 0.7182\n",
            "Done:  120 Acc: 0.7417\n",
            "Done:  130 Acc: 0.7538\n",
            "Done:  140 Acc: 0.7571\n",
            "Done:  150 Acc: 0.7667\n",
            "Done:  160 Acc: 0.775\n",
            "Done:  170 Acc: 0.7824\n",
            "Done:  180 Acc: 0.7833\n",
            "Done:  190 Acc: 0.7947\n",
            "Done:  200 Acc: 0.8\n",
            "Accuracy:  0.798\n"
          ]
        }
      ],
      "source": [
        "import os\n",
        "confusion_matrix_s = np.zeros(36).reshape(6,6)\n",
        "true = 0\n",
        "class_labels = list(train_data.class_indices.keys())\n",
        "count = 0\n",
        "for i in test_df.itertuples():\n",
        "    img = tf.keras.preprocessing.image.load_img(\n",
        "        os.path.join(base_dir,i[3]), target_size=(IMAGE_SIZE, IMAGE_SIZE)\n",
        "    )\n",
        "    img_array = tf.keras.preprocessing.image.img_to_array(img)\n",
        "    img_array = img_array / 255\n",
        "    img_array = img_array.reshape(1,IMAGE_SIZE,IMAGE_SIZE,3)\n",
        "    predictions = model.predict(img_array)\n",
        "    pred_class = class_labels[np.argmax(predictions)]   \n",
        "    row = class_labels.index(pred_class)\n",
        "    col = class_labels.index(i[2])\n",
        "    confusion_matrix_s[row][col] += 1\n",
        "    if pred_class == i[2]:\n",
        "        true+=1\n",
        "    count += 1\n",
        "    if count % 10 == 0:\n",
        "        print(\"Done: \",count, \"Acc:\", round(true/count,4))\n",
        "print(\"Accuracy: \", round(true/count,4))"
      ]
    },
    {
      "cell_type": "code",
      "execution_count": 17,
      "metadata": {},
      "outputs": [
        {
          "name": "stdout",
          "output_type": "stream",
          "text": [
            "Accuracy:  0.7980295566502463\n"
          ]
        },
        {
          "name": "stderr",
          "output_type": "stream",
          "text": [
            "/var/folders/q1/qjttjhc15mb146h6q363vh_80000gn/T/ipykernel_9403/980666082.py:9: UserWarning: FixedFormatter should only be used together with FixedLocator\n",
            "  ax.set_xticklabels([\"\",*class_labels])\n",
            "/var/folders/q1/qjttjhc15mb146h6q363vh_80000gn/T/ipykernel_9403/980666082.py:10: UserWarning: FixedFormatter should only be used together with FixedLocator\n",
            "  ax.set_yticklabels([\"\",*class_labels])\n"
          ]
        },
        {
          "data": {
            "image/png": "[encoded data removed]",
            "text/plain": [
              "<Figure size 432x288 with 2 Axes>"
            ]
          },
          "metadata": {
            "needs_background": "light"
          },
          "output_type": "display_data"
        }
      ],
      "source": [
        "import matplotlib.pyplot as plt\n",
        "fig, ax = plt.subplots()\n",
        "plt.title(\"Confusion Matrix\")\n",
        "heatmap = ax.matshow(confusion_matrix_s,cmap='GnBu')\n",
        "plt.xlabel(\"Actual Class\")\n",
        "plt.ylabel(\"Predict Class\")\n",
        "plt.colorbar(heatmap)\n",
        "ax.xaxis.set_ticks_position('bottom')\n",
        "ax.set_xticklabels([\"\",*class_labels])\n",
        "ax.set_yticklabels([\"\",*class_labels])\n",
        "for (i, j), z in np.ndenumerate(confusion_matrix_s):\n",
        "    ax.text(j, i, '{:0.1f}'.format(z), ha='center', va='center')\n",
        "accuracy = np.trace(confusion_matrix_s)/np.sum(confusion_matrix_s)\n",
        "print(\"Accuracy: \", accuracy)"
      ]
    }
  ],
  "metadata": {
    "colab": {
      "name": "Untitled17.ipynb",
      "provenance": []
    },
    "kernelspec": {
      "display_name": "Python 3",
      "name": "python3"
    },
    "language_info": {
      "codemirror_mode": {
        "name": "ipython",
        "version": 3
      },
      "file_extension": ".py",
      "mimetype": "text/x-python",
      "name": "python",
      "nbconvert_exporter": "python",
      "pygments_lexer": "ipython3",
      "version": "3.8.12"
    }
  },
  "nbformat": 4,
  "nbformat_minor": 0
}
