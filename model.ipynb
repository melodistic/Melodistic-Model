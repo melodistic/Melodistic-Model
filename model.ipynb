{
  "cells": [
    {
      "cell_type": "markdown",
      "metadata": {
        "id": "cH-lIPn9wxoE"
      },
      "source": [
        "# Import Library"
      ]
    },
    {
      "cell_type": "code",
      "execution_count": 40,
      "metadata": {
        "id": "CojQ2nhlwzTH"
      },
      "outputs": [],
      "source": [
        "import numpy as np\n",
        "import pandas as pd\n",
        "import tensorflow as tf\n",
        "from sklearn.model_selection import train_test_split\n",
        "from tensorflow.keras.applications import VGG19, MobileNetV2 ,InceptionV3\n",
        "from tensorflow.keras.layers import AveragePooling2D, Dropout, Flatten, Dense, Input\n",
        "from tensorflow.keras.models import Model, load_model\n",
        "from tensorflow.keras.preprocessing.image import img_to_array, load_img"
      ]
    },
    {
      "cell_type": "markdown",
      "metadata": {
        "id": "05xAt1T7w3n4"
      },
      "source": [
        "# Read Dataset"
      ]
    },
    {
      "cell_type": "code",
      "execution_count": 41,
      "metadata": {
        "id": "MmTER8D-w2k9"
      },
      "outputs": [],
      "source": [
        "df = pd.read_csv(\"data.csv\")\n",
        "df[\"file_path\"] = df[\"mood\"]+'/'+df[\"filename\"].str.split(\".\",expand=True)[0]+\".png\""
      ]
    },
    {
      "cell_type": "markdown",
      "metadata": {
        "id": "Ds9BdLl5xB5r"
      },
      "source": [
        "# Define Constant"
      ]
    },
    {
      "cell_type": "code",
      "execution_count": 42,
      "metadata": {
        "id": "KiFsSwWJxDCr"
      },
      "outputs": [],
      "source": [
        "base_dir = \"spectogram/\"\n",
        "IMAGE_SIZE = 256\n",
        "BATCH_SIZE = 128"
      ]
    },
    {
      "cell_type": "markdown",
      "metadata": {
        "id": "gQS-ZtsMxPEA"
      },
      "source": [
        "# Split Dataset"
      ]
    },
    {
      "cell_type": "code",
      "execution_count": 43,
      "metadata": {
        "id": "8AjFLzxfxQyu"
      },
      "outputs": [],
      "source": [
        "# Train 0.75\n",
        "# Validate 0.15\n",
        "# Test 0.10\n",
        "df_train,  test_df = train_test_split(df,train_size=0.9,random_state=1941,stratify=df['mood'])\n",
        "train_df, val_df = train_test_split(df_train,test_size=1/6,random_state=1941,stratify=df_train['mood'])"
      ]
    },
    {
      "cell_type": "markdown",
      "metadata": {
        "id": "xxecLkfqxTZ7"
      },
      "source": [
        "# Load image to generator"
      ]
    },
    {
      "cell_type": "code",
      "execution_count": 44,
      "metadata": {
        "id": "hCYD6uZ5xRlQ"
      },
      "outputs": [
        {
          "name": "stdout",
          "output_type": "stream",
          "text": [
            "Found 296 validated image filenames belonging to 6 classes.\n"
          ]
        }
      ],
      "source": [
        "from keras_preprocessing.image import ImageDataGenerator\n",
        "\n",
        "train_image_generator = ImageDataGenerator(rescale=1./255,)\n",
        "\n",
        "train_data = train_image_generator.flow_from_dataframe(\n",
        "    train_df,\n",
        "    directory=base_dir,\n",
        "    x_col=\"file_path\",\n",
        "    y_col=\"mood\",\n",
        "    class_mode=\"categorical\",\n",
        "    target_size=(IMAGE_SIZE,IMAGE_SIZE),\n",
        "    batch_size=BATCH_SIZE)"
      ]
    },
    {
      "cell_type": "code",
      "execution_count": 45,
      "metadata": {
        "id": "73r0Ch0HxaO8"
      },
      "outputs": [
        {
          "name": "stdout",
          "output_type": "stream",
          "text": [
            "Found 60 validated image filenames belonging to 6 classes.\n"
          ]
        }
      ],
      "source": [
        "val_image_generator = ImageDataGenerator(rescale=1./255)\n",
        "\n",
        "val_data = val_image_generator.flow_from_dataframe(\n",
        "    val_df,\n",
        "    directory=base_dir,\n",
        "    x_col=\"file_path\",\n",
        "    y_col=\"mood\",\n",
        "    class_mode=\"categorical\",\n",
        "    target_size=(IMAGE_SIZE,IMAGE_SIZE),\n",
        "    batch_size=BATCH_SIZE)"
      ]
    },
    {
      "cell_type": "code",
      "execution_count": 46,
      "metadata": {
        "id": "PV229XCexaqA"
      },
      "outputs": [
        {
          "name": "stdout",
          "output_type": "stream",
          "text": [
            "Found 40 validated image filenames belonging to 6 classes.\n"
          ]
        }
      ],
      "source": [
        "test_image_generator = ImageDataGenerator(rescale=1./255)\n",
        "\n",
        "test_data = test_image_generator.flow_from_dataframe(\n",
        "    test_df,\n",
        "    directory=base_dir,\n",
        "    x_col=\"file_path\",\n",
        "    y_col=\"mood\",\n",
        "    class_mode=\"categorical\",\n",
        "    target_size=(IMAGE_SIZE,IMAGE_SIZE),\n",
        "    batch_size=BATCH_SIZE)"
      ]
    },
    {
      "cell_type": "markdown",
      "metadata": {
        "id": "XXqpo-Rfxdjb"
      },
      "source": [
        "## Check Class indices"
      ]
    },
    {
      "cell_type": "code",
      "execution_count": 47,
      "metadata": {
        "id": "VMkEfdyNxc-r"
      },
      "outputs": [
        {
          "data": {
            "text/plain": [
              "{'Anxious': 0, 'Chill': 1, 'Focus': 2, 'Party': 3, 'Romance': 4, 'Sad': 5}"
            ]
          },
          "execution_count": 47,
          "metadata": {},
          "output_type": "execute_result"
        }
      ],
      "source": [
        "train_data.class_indices"
      ]
    },
    {
      "cell_type": "markdown",
      "metadata": {
        "id": "lNHqf5cqxyFj"
      },
      "source": [
        "# Create model"
      ]
    },
    {
      "cell_type": "code",
      "execution_count": 48,
      "metadata": {
        "id": "o2H6ek0fxfUt"
      },
      "outputs": [],
      "source": [
        "def get_mobilenet_model():\n",
        "  baseModel = MobileNetV2(weights=\"imagenet\", include_top=False, input_shape=(IMAGE_SIZE, IMAGE_SIZE, 3))\n",
        "  headModel = baseModel.output\n",
        "  headModel = AveragePooling2D(pool_size=(7, 7))(headModel)\n",
        "  headModel = Flatten(name=\"flatten\")(headModel)\n",
        "  headModel = Dense(128, activation=\"relu\")(headModel)\n",
        "  headModel = Dropout(0.3)(headModel)\n",
        "  headModel = Dense(64, activation=\"relu\")(headModel)\n",
        "  headModel = Dense(6, activation=\"softmax\")(headModel)\n",
        "  model = Model(inputs=baseModel.input, outputs=headModel)\n",
        "  for layer in baseModel.layers:\n",
        "    layer.trainable = False\n",
        "  return model"
      ]
    },
    {
      "cell_type": "code",
      "execution_count": 49,
      "metadata": {
        "id": "mr_VzFzyx1kL"
      },
      "outputs": [
        {
          "name": "stdout",
          "output_type": "stream",
          "text": [
            "WARNING:tensorflow:`input_shape` is undefined or non-square, or `rows` is not in [96, 128, 160, 192, 224]. Weights for input shape (224, 224) will be loaded as the default.\n"
          ]
        }
      ],
      "source": [
        "model = get_mobilenet_model()\n",
        "model_name = \"model.h5\""
      ]
    },
    {
      "cell_type": "code",
      "execution_count": 50,
      "metadata": {
        "id": "LrErFgJyx6mC"
      },
      "outputs": [],
      "source": [
        "model.compile(\n",
        "    loss='categorical_crossentropy',\n",
        "    optimizer=\"adam\",\n",
        "    metrics=['accuracy'])"
      ]
    },
    {
      "cell_type": "code",
      "execution_count": 51,
      "metadata": {
        "id": "3banICQ4x7ct"
      },
      "outputs": [],
      "source": [
        "model_checkpoint = tf.keras.callbacks.ModelCheckpoint(\n",
        "    \"models/\"+model_name, save_best_only=True)\n",
        "early_stopping = tf.keras.callbacks.EarlyStopping(patience=3)"
      ]
    },
    {
      "cell_type": "code",
      "execution_count": 52,
      "metadata": {
        "id": "mLnVUxtsx8bv"
      },
      "outputs": [
        {
          "name": "stdout",
          "output_type": "stream",
          "text": [
            "Epoch 1/50\n"
          ]
        },
        {
          "name": "stderr",
          "output_type": "stream",
          "text": [
            "2022-03-09 20:32:49.110043: I tensorflow/core/grappler/optimizers/custom_graph_optimizer_registry.cc:113] Plugin optimizer for device_type GPU is enabled.\n"
          ]
        },
        {
          "name": "stdout",
          "output_type": "stream",
          "text": [
            "3/3 [==============================] - ETA: 0s - loss: 1.9175 - accuracy: 0.1926"
          ]
        },
        {
          "name": "stderr",
          "output_type": "stream",
          "text": [
            "2022-03-09 20:32:52.015615: I tensorflow/core/grappler/optimizers/custom_graph_optimizer_registry.cc:113] Plugin optimizer for device_type GPU is enabled.\n"
          ]
        },
        {
          "name": "stdout",
          "output_type": "stream",
          "text": [
            "3/3 [==============================] - 5s 1s/step - loss: 1.9175 - accuracy: 0.1926 - val_loss: 1.6968 - val_accuracy: 0.2167\n",
            "Epoch 2/50\n",
            "3/3 [==============================] - 2s 765ms/step - loss: 1.6766 - accuracy: 0.3041 - val_loss: 1.4982 - val_accuracy: 0.4000\n",
            "Epoch 3/50\n",
            "3/3 [==============================] - 3s 841ms/step - loss: 1.5240 - accuracy: 0.4054 - val_loss: 1.4165 - val_accuracy: 0.4667\n",
            "Epoch 4/50\n",
            "3/3 [==============================] - 3s 850ms/step - loss: 1.3984 - accuracy: 0.4291 - val_loss: 1.3973 - val_accuracy: 0.4667\n",
            "Epoch 5/50\n",
            "3/3 [==============================] - 3s 937ms/step - loss: 1.3464 - accuracy: 0.5068 - val_loss: 1.2893 - val_accuracy: 0.4167\n",
            "Epoch 6/50\n",
            "3/3 [==============================] - 3s 947ms/step - loss: 1.2318 - accuracy: 0.5101 - val_loss: 1.2294 - val_accuracy: 0.5167\n",
            "Epoch 7/50\n",
            "3/3 [==============================] - 3s 991ms/step - loss: 1.1763 - accuracy: 0.5304 - val_loss: 1.1356 - val_accuracy: 0.6000\n",
            "Epoch 8/50\n",
            "3/3 [==============================] - 3s 866ms/step - loss: 1.0543 - accuracy: 0.6216 - val_loss: 1.0948 - val_accuracy: 0.6167\n",
            "Epoch 9/50\n",
            "3/3 [==============================] - 3s 852ms/step - loss: 1.0119 - accuracy: 0.6419 - val_loss: 1.0417 - val_accuracy: 0.6833\n",
            "Epoch 10/50\n",
            "3/3 [==============================] - 3s 826ms/step - loss: 0.9477 - accuracy: 0.6824 - val_loss: 1.0112 - val_accuracy: 0.6833\n",
            "Epoch 11/50\n",
            "3/3 [==============================] - 3s 772ms/step - loss: 0.9253 - accuracy: 0.6588 - val_loss: 0.9713 - val_accuracy: 0.6833\n",
            "Epoch 12/50\n",
            "3/3 [==============================] - 3s 834ms/step - loss: 0.8338 - accuracy: 0.7027 - val_loss: 0.9436 - val_accuracy: 0.7167\n",
            "Epoch 13/50\n",
            "3/3 [==============================] - 2s 1s/step - loss: 0.7798 - accuracy: 0.7196 - val_loss: 0.9049 - val_accuracy: 0.7333\n",
            "Epoch 14/50\n",
            "3/3 [==============================] - 3s 790ms/step - loss: 0.7439 - accuracy: 0.7196 - val_loss: 0.8749 - val_accuracy: 0.7167\n",
            "Epoch 15/50\n",
            "3/3 [==============================] - 3s 1s/step - loss: 0.7528 - accuracy: 0.7432 - val_loss: 0.8632 - val_accuracy: 0.7000\n",
            "Epoch 16/50\n",
            "3/3 [==============================] - 3s 758ms/step - loss: 0.6844 - accuracy: 0.7534 - val_loss: 0.8967 - val_accuracy: 0.6500\n",
            "Epoch 17/50\n",
            "3/3 [==============================] - 2s 664ms/step - loss: 0.6300 - accuracy: 0.7804 - val_loss: 0.8775 - val_accuracy: 0.6833\n",
            "Epoch 18/50\n",
            "3/3 [==============================] - 2s 1s/step - loss: 0.6136 - accuracy: 0.8142 - val_loss: 0.8371 - val_accuracy: 0.7833\n",
            "Epoch 19/50\n",
            "3/3 [==============================] - 2s 781ms/step - loss: 0.5401 - accuracy: 0.8176 - val_loss: 0.8128 - val_accuracy: 0.7833\n",
            "Epoch 20/50\n",
            "3/3 [==============================] - 3s 829ms/step - loss: 0.5413 - accuracy: 0.8243 - val_loss: 0.7856 - val_accuracy: 0.7667\n",
            "Epoch 21/50\n",
            "3/3 [==============================] - 3s 828ms/step - loss: 0.5180 - accuracy: 0.8446 - val_loss: 0.7797 - val_accuracy: 0.7333\n",
            "Epoch 22/50\n",
            "3/3 [==============================] - 2s 754ms/step - loss: 0.4664 - accuracy: 0.8514 - val_loss: 0.7554 - val_accuracy: 0.7667\n",
            "Epoch 23/50\n",
            "3/3 [==============================] - 2s 1s/step - loss: 0.4539 - accuracy: 0.8547 - val_loss: 0.7496 - val_accuracy: 0.7667\n",
            "Epoch 24/50\n",
            "3/3 [==============================] - 3s 822ms/step - loss: 0.4304 - accuracy: 0.8784 - val_loss: 0.7212 - val_accuracy: 0.8000\n",
            "Epoch 25/50\n",
            "3/3 [==============================] - 2s 756ms/step - loss: 0.3989 - accuracy: 0.8885 - val_loss: 0.7191 - val_accuracy: 0.7667\n",
            "Epoch 26/50\n",
            "3/3 [==============================] - 2s 759ms/step - loss: 0.3779 - accuracy: 0.8818 - val_loss: 0.6912 - val_accuracy: 0.8000\n",
            "Epoch 27/50\n",
            "3/3 [==============================] - 2s 754ms/step - loss: 0.3359 - accuracy: 0.9088 - val_loss: 0.6746 - val_accuracy: 0.8167\n",
            "Epoch 28/50\n",
            "3/3 [==============================] - 2s 654ms/step - loss: 0.3542 - accuracy: 0.9020 - val_loss: 0.6768 - val_accuracy: 0.7500\n",
            "Epoch 29/50\n",
            "3/3 [==============================] - 2s 658ms/step - loss: 0.2971 - accuracy: 0.9223 - val_loss: 0.6759 - val_accuracy: 0.7833\n",
            "Epoch 30/50\n",
            "3/3 [==============================] - 2s 754ms/step - loss: 0.3072 - accuracy: 0.9088 - val_loss: 0.6567 - val_accuracy: 0.8000\n",
            "Epoch 31/50\n",
            "3/3 [==============================] - 3s 893ms/step - loss: 0.2859 - accuracy: 0.9257 - val_loss: 0.6407 - val_accuracy: 0.7833\n",
            "Epoch 32/50\n",
            "3/3 [==============================] - 2s 920ms/step - loss: 0.2709 - accuracy: 0.9088 - val_loss: 0.6736 - val_accuracy: 0.7500\n",
            "Epoch 33/50\n",
            "3/3 [==============================] - 2s 754ms/step - loss: 0.2461 - accuracy: 0.9291 - val_loss: 0.6223 - val_accuracy: 0.8000\n",
            "Epoch 34/50\n",
            "3/3 [==============================] - 2s 751ms/step - loss: 0.2658 - accuracy: 0.9223 - val_loss: 0.6186 - val_accuracy: 0.8167\n",
            "Epoch 35/50\n",
            "3/3 [==============================] - 2s 652ms/step - loss: 0.2073 - accuracy: 0.9527 - val_loss: 0.6435 - val_accuracy: 0.8167\n",
            "Epoch 36/50\n",
            "3/3 [==============================] - 2s 758ms/step - loss: 0.2127 - accuracy: 0.9392 - val_loss: 0.6105 - val_accuracy: 0.8333\n",
            "Epoch 37/50\n",
            "3/3 [==============================] - 3s 831ms/step - loss: 0.1857 - accuracy: 0.9696 - val_loss: 0.6052 - val_accuracy: 0.8333\n",
            "Epoch 38/50\n",
            "3/3 [==============================] - 2s 1s/step - loss: 0.1937 - accuracy: 0.9493 - val_loss: 0.5951 - val_accuracy: 0.8167\n",
            "Epoch 39/50\n",
            "3/3 [==============================] - 2s 727ms/step - loss: 0.1681 - accuracy: 0.9628 - val_loss: 0.6210 - val_accuracy: 0.8000\n",
            "Epoch 40/50\n",
            "3/3 [==============================] - 2s 735ms/step - loss: 0.1841 - accuracy: 0.9493 - val_loss: 0.6134 - val_accuracy: 0.8333\n",
            "Epoch 41/50\n",
            "3/3 [==============================] - 2s 756ms/step - loss: 0.1618 - accuracy: 0.9696 - val_loss: 0.5835 - val_accuracy: 0.8333\n",
            "Epoch 42/50\n",
            "3/3 [==============================] - 2s 655ms/step - loss: 0.1467 - accuracy: 0.9764 - val_loss: 0.5947 - val_accuracy: 0.8167\n",
            "Epoch 43/50\n",
            "3/3 [==============================] - 2s 742ms/step - loss: 0.1348 - accuracy: 0.9764 - val_loss: 0.6121 - val_accuracy: 0.8167\n",
            "Epoch 44/50\n",
            "3/3 [==============================] - 2s 653ms/step - loss: 0.1287 - accuracy: 0.9730 - val_loss: 0.6234 - val_accuracy: 0.8000\n"
          ]
        }
      ],
      "source": [
        "EPOCHS = 50\n",
        "history = model.fit(train_data, epochs=EPOCHS, validation_data=val_data, batch_size=256, callbacks=[early_stopping, model_checkpoint])"
      ]
    },
    {
      "cell_type": "markdown",
      "metadata": {},
      "source": [
        "# Save Model"
      ]
    },
    {
      "cell_type": "code",
      "execution_count": 53,
      "metadata": {},
      "outputs": [],
      "source": [
        "model.save(\"models/\"+model_name)"
      ]
    },
    {
      "cell_type": "markdown",
      "metadata": {},
      "source": [
        "# Load Model"
      ]
    },
    {
      "cell_type": "code",
      "execution_count": 54,
      "metadata": {},
      "outputs": [],
      "source": [
        "model = load_model(\"models/\"+model_name)"
      ]
    },
    {
      "cell_type": "markdown",
      "metadata": {},
      "source": [
        "# Evaluate Model"
      ]
    },
    {
      "cell_type": "code",
      "execution_count": 55,
      "metadata": {},
      "outputs": [
        {
          "name": "stderr",
          "output_type": "stream",
          "text": [
            "2022-03-09 20:34:41.649376: I tensorflow/core/grappler/optimizers/custom_graph_optimizer_registry.cc:113] Plugin optimizer for device_type GPU is enabled.\n"
          ]
        },
        {
          "name": "stdout",
          "output_type": "stream",
          "text": [
            "Done:  10 Acc: 0.8\n",
            "Done:  20 Acc: 0.8\n",
            "Done:  30 Acc: 0.8333\n",
            "Done:  40 Acc: 0.85\n"
          ]
        }
      ],
      "source": [
        "import os\n",
        "confusion_matrix_s = np.zeros(36).reshape(6,6)\n",
        "true = 0\n",
        "class_labels = list(train_data.class_indices.keys())\n",
        "count = 0\n",
        "for i in test_df.itertuples():\n",
        "    img = tf.keras.preprocessing.image.load_img(\n",
        "        os.path.join(base_dir,i[3]), target_size=(IMAGE_SIZE, IMAGE_SIZE)\n",
        "    )\n",
        "    img_array = tf.keras.preprocessing.image.img_to_array(img)\n",
        "    img_array = img_array / 255\n",
        "    img_array = img_array.reshape(1,IMAGE_SIZE,IMAGE_SIZE,3)\n",
        "    predictions = model.predict(img_array)\n",
        "    pred_class = class_labels[np.argmax(predictions)]   \n",
        "    row = class_labels.index(pred_class)\n",
        "    col = class_labels.index(i[2])\n",
        "    confusion_matrix_s[row][col] += 1\n",
        "    if pred_class == i[2]:\n",
        "        true+=1\n",
        "    count += 1\n",
        "    if count % 10 == 0:\n",
        "        print(\"Done: \",count, \"Acc:\", round(true/count,4))"
      ]
    },
    {
      "cell_type": "code",
      "execution_count": 57,
      "metadata": {},
      "outputs": [
        {
          "name": "stdout",
          "output_type": "stream",
          "text": [
            "Accuracy:  0.85\n"
          ]
        },
        {
          "name": "stderr",
          "output_type": "stream",
          "text": [
            "/var/folders/q1/qjttjhc15mb146h6q363vh_80000gn/T/ipykernel_6568/980666082.py:9: UserWarning: FixedFormatter should only be used together with FixedLocator\n",
            "  ax.set_xticklabels([\"\",*class_labels])\n",
            "/var/folders/q1/qjttjhc15mb146h6q363vh_80000gn/T/ipykernel_6568/980666082.py:10: UserWarning: FixedFormatter should only be used together with FixedLocator\n",
            "  ax.set_yticklabels([\"\",*class_labels])\n"
          ]
        },
        {
          "data": {
            "image/png": "[encoded data removed]",
            "text/plain": [
              "<Figure size 432x288 with 2 Axes>"
            ]
          },
          "metadata": {
            "needs_background": "light"
          },
          "output_type": "display_data"
        }
      ],
      "source": [
        "import matplotlib.pyplot as plt\n",
        "fig, ax = plt.subplots()\n",
        "plt.title(\"Confusion Matrix\")\n",
        "heatmap = ax.matshow(confusion_matrix_s,cmap='GnBu')\n",
        "plt.xlabel(\"Actual Class\")\n",
        "plt.ylabel(\"Predict Class\")\n",
        "plt.colorbar(heatmap)\n",
        "ax.xaxis.set_ticks_position('bottom')\n",
        "ax.set_xticklabels([\"\",*class_labels])\n",
        "ax.set_yticklabels([\"\",*class_labels])\n",
        "for (i, j), z in np.ndenumerate(confusion_matrix_s):\n",
        "    ax.text(j, i, '{:0.1f}'.format(z), ha='center', va='center')\n",
        "accuracy = np.trace(confusion_matrix_s)/np.sum(confusion_matrix_s)\n",
        "print(\"Accuracy: \", accuracy)"
      ]
    }
  ],
  "metadata": {
    "colab": {
      "name": "Untitled17.ipynb",
      "provenance": []
    },
    "kernelspec": {
      "display_name": "Python 3",
      "name": "python3"
    },
    "language_info": {
      "codemirror_mode": {
        "name": "ipython",
        "version": 3
      },
      "file_extension": ".py",
      "mimetype": "text/x-python",
      "name": "python",
      "nbconvert_exporter": "python",
      "pygments_lexer": "ipython3",
      "version": "3.8.12"
    }
  },
  "nbformat": 4,
  "nbformat_minor": 0
}
