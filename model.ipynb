{
  "cells": [
    {
      "cell_type": "markdown",
      "metadata": {
        "id": "cH-lIPn9wxoE"
      },
      "source": [
        "# Import Library"
      ]
    },
    {
      "cell_type": "code",
      "execution_count": 1,
      "metadata": {
        "id": "CojQ2nhlwzTH"
      },
      "outputs": [],
      "source": [
        "import numpy as np\n",
        "import pandas as pd\n",
        "import tensorflow as tf\n",
        "from sklearn.model_selection import train_test_split\n",
        "from tensorflow.keras.applications import VGG19, MobileNetV2 ,InceptionV3\n",
        "from tensorflow.keras.layers import AveragePooling2D, Dropout, Flatten, Dense, GlobalAveragePooling2D\n",
        "from tensorflow.keras.models import Model, load_model\n",
        "from tensorflow.keras.preprocessing.image import img_to_array, load_img\n",
        "import keras_tuner as kt"
      ]
    },
    {
      "cell_type": "markdown",
      "metadata": {
        "id": "05xAt1T7w3n4"
      },
      "source": [
        "# Read Dataset"
      ]
    },
    {
      "cell_type": "code",
      "execution_count": 2,
      "metadata": {
        "id": "MmTER8D-w2k9"
      },
      "outputs": [],
      "source": [
        "df = pd.read_csv(\"data.csv\")\n",
        "df[\"file_path\"] = df[\"mood\"]+'/'+df[\"filename\"].str.split(\".\",expand=True)[0]+\".png\""
      ]
    },
    {
      "cell_type": "code",
      "execution_count": 3,
      "metadata": {},
      "outputs": [
        {
          "data": {
            "text/html": [
              "<div>\n",
              "<style scoped>\n",
              "    .dataframe tbody tr th:only-of-type {\n",
              "        vertical-align: middle;\n",
              "    }\n",
              "\n",
              "    .dataframe tbody tr th {\n",
              "        vertical-align: top;\n",
              "    }\n",
              "\n",
              "    .dataframe thead th {\n",
              "        text-align: right;\n",
              "    }\n",
              "</style>\n",
              "<table border=\"1\" class=\"dataframe\">\n",
              "  <thead>\n",
              "    <tr style=\"text-align: right;\">\n",
              "      <th></th>\n",
              "      <th>filename</th>\n",
              "      <th>mood</th>\n",
              "      <th>file_path</th>\n",
              "    </tr>\n",
              "  </thead>\n",
              "  <tbody>\n",
              "    <tr>\n",
              "      <th>0</th>\n",
              "      <td>A Song For Mama_0.wav</td>\n",
              "      <td>Romance</td>\n",
              "      <td>Romance/A Song For Mama_0.png</td>\n",
              "    </tr>\n",
              "    <tr>\n",
              "      <th>1</th>\n",
              "      <td>A Song For Mama_1.wav</td>\n",
              "      <td>Romance</td>\n",
              "      <td>Romance/A Song For Mama_1.png</td>\n",
              "    </tr>\n",
              "    <tr>\n",
              "      <th>2</th>\n",
              "      <td>A Song For Mama_10.wav</td>\n",
              "      <td>Romance</td>\n",
              "      <td>Romance/A Song For Mama_10.png</td>\n",
              "    </tr>\n",
              "    <tr>\n",
              "      <th>3</th>\n",
              "      <td>A Song For Mama_11.wav</td>\n",
              "      <td>Romance</td>\n",
              "      <td>Romance/A Song For Mama_11.png</td>\n",
              "    </tr>\n",
              "    <tr>\n",
              "      <th>4</th>\n",
              "      <td>A Song For Mama_12.wav</td>\n",
              "      <td>Romance</td>\n",
              "      <td>Romance/A Song For Mama_12.png</td>\n",
              "    </tr>\n",
              "  </tbody>\n",
              "</table>\n",
              "</div>"
            ],
            "text/plain": [
              "                 filename     mood                       file_path\n",
              "0   A Song For Mama_0.wav  Romance   Romance/A Song For Mama_0.png\n",
              "1   A Song For Mama_1.wav  Romance   Romance/A Song For Mama_1.png\n",
              "2  A Song For Mama_10.wav  Romance  Romance/A Song For Mama_10.png\n",
              "3  A Song For Mama_11.wav  Romance  Romance/A Song For Mama_11.png\n",
              "4  A Song For Mama_12.wav  Romance  Romance/A Song For Mama_12.png"
            ]
          },
          "execution_count": 3,
          "metadata": {},
          "output_type": "execute_result"
        }
      ],
      "source": [
        "df.head()"
      ]
    },
    {
      "cell_type": "code",
      "execution_count": 4,
      "metadata": {},
      "outputs": [
        {
          "data": {
            "text/plain": [
              "Romance    1000\n",
              "Sad        1000\n",
              "Party      1000\n",
              "Anxious    1000\n",
              "Focus      1000\n",
              "Chill      1000\n",
              "Name: mood, dtype: int64"
            ]
          },
          "execution_count": 4,
          "metadata": {},
          "output_type": "execute_result"
        }
      ],
      "source": [
        "df[\"mood\"].value_counts()"
      ]
    },
    {
      "cell_type": "markdown",
      "metadata": {
        "id": "Ds9BdLl5xB5r"
      },
      "source": [
        "# Define Constant"
      ]
    },
    {
      "cell_type": "code",
      "execution_count": 5,
      "metadata": {
        "id": "KiFsSwWJxDCr"
      },
      "outputs": [],
      "source": [
        "base_dir = \"spectogram/\"\n",
        "IMAGE_SIZE = 224\n",
        "BATCH_SIZE = 128"
      ]
    },
    {
      "cell_type": "markdown",
      "metadata": {
        "id": "gQS-ZtsMxPEA"
      },
      "source": [
        "# Split Dataset"
      ]
    },
    {
      "cell_type": "code",
      "execution_count": 6,
      "metadata": {
        "id": "8AjFLzxfxQyu"
      },
      "outputs": [],
      "source": [
        "# Train 0.75\n",
        "# Validate 0.15\n",
        "# Test 0.10\n",
        "df_train,  test_df = train_test_split(df,train_size=0.9,random_state=1941,stratify=df['mood'])\n",
        "train_df, val_df = train_test_split(df_train,test_size=1/6,random_state=1941,stratify=df_train['mood'])"
      ]
    },
    {
      "cell_type": "markdown",
      "metadata": {
        "id": "xxecLkfqxTZ7"
      },
      "source": [
        "# Load image to generator"
      ]
    },
    {
      "cell_type": "code",
      "execution_count": 7,
      "metadata": {
        "id": "hCYD6uZ5xRlQ"
      },
      "outputs": [
        {
          "name": "stdout",
          "output_type": "stream",
          "text": [
            "Found 4500 validated image filenames belonging to 6 classes.\n"
          ]
        }
      ],
      "source": [
        "from keras_preprocessing.image import ImageDataGenerator\n",
        "\n",
        "train_image_generator = ImageDataGenerator(rescale=1./255,)\n",
        "\n",
        "train_data = train_image_generator.flow_from_dataframe(\n",
        "    train_df,\n",
        "    directory=base_dir,\n",
        "    x_col=\"file_path\",\n",
        "    y_col=\"mood\",\n",
        "    class_mode=\"categorical\",\n",
        "    target_size=(IMAGE_SIZE,IMAGE_SIZE),\n",
        "    batch_size=BATCH_SIZE)"
      ]
    },
    {
      "cell_type": "code",
      "execution_count": 8,
      "metadata": {
        "id": "73r0Ch0HxaO8"
      },
      "outputs": [
        {
          "name": "stdout",
          "output_type": "stream",
          "text": [
            "Found 900 validated image filenames belonging to 6 classes.\n"
          ]
        }
      ],
      "source": [
        "val_image_generator = ImageDataGenerator(rescale=1./255)\n",
        "\n",
        "val_data = val_image_generator.flow_from_dataframe(\n",
        "    val_df,\n",
        "    directory=base_dir,\n",
        "    x_col=\"file_path\",\n",
        "    y_col=\"mood\",\n",
        "    class_mode=\"categorical\",\n",
        "    target_size=(IMAGE_SIZE,IMAGE_SIZE),\n",
        "    batch_size=BATCH_SIZE)"
      ]
    },
    {
      "cell_type": "code",
      "execution_count": 9,
      "metadata": {
        "id": "PV229XCexaqA"
      },
      "outputs": [
        {
          "name": "stdout",
          "output_type": "stream",
          "text": [
            "Found 600 validated image filenames belonging to 6 classes.\n"
          ]
        }
      ],
      "source": [
        "test_image_generator = ImageDataGenerator(rescale=1./255)\n",
        "\n",
        "test_data = test_image_generator.flow_from_dataframe(\n",
        "    test_df,\n",
        "    directory=base_dir,\n",
        "    x_col=\"file_path\",\n",
        "    y_col=\"mood\",\n",
        "    class_mode=\"categorical\",\n",
        "    target_size=(IMAGE_SIZE,IMAGE_SIZE),\n",
        "    batch_size=BATCH_SIZE)"
      ]
    },
    {
      "cell_type": "markdown",
      "metadata": {
        "id": "XXqpo-Rfxdjb"
      },
      "source": [
        "## Check Class indices"
      ]
    },
    {
      "cell_type": "code",
      "execution_count": 10,
      "metadata": {
        "id": "VMkEfdyNxc-r"
      },
      "outputs": [
        {
          "data": {
            "text/plain": [
              "{'Anxious': 0, 'Chill': 1, 'Focus': 2, 'Party': 3, 'Romance': 4, 'Sad': 5}"
            ]
          },
          "execution_count": 10,
          "metadata": {},
          "output_type": "execute_result"
        }
      ],
      "source": [
        "train_data.class_indices"
      ]
    },
    {
      "cell_type": "markdown",
      "metadata": {
        "id": "lNHqf5cqxyFj"
      },
      "source": [
        "# Create model"
      ]
    },
    {
      "cell_type": "code",
      "execution_count": 11,
      "metadata": {
        "id": "o2H6ek0fxfUt"
      },
      "outputs": [],
      "source": [
        "def get_mobilenet_model(hp):\n",
        "  baseModel = MobileNetV2(weights=\"imagenet\", include_top=False, input_shape=(IMAGE_SIZE, IMAGE_SIZE, 3))\n",
        "  headModel = baseModel.output\n",
        "  reduction_type = hp.Choice('reduction_type', ['flatten', 'avg'])\n",
        "  if reduction_type == 'flatten':\n",
        "    headModel = AveragePooling2D(pool_size=(7, 7))(headModel)\n",
        "    headModel = Flatten(name=\"flatten\")(headModel)\n",
        "  else:\n",
        "    headModel = GlobalAveragePooling2D()(headModel)\n",
        "  denseLayers = [\n",
        "    hp.Int('num_dense_units1', min_value=32, max_value=512, step=32),\n",
        "    hp.Int('num_dense_units2', min_value=32, max_value=512, step=32),\n",
        "    hp.Int('num_dense_units3', min_value=32, max_value=512, step=32)\n",
        "  ]\n",
        "  for i in range(hp.Int('num_dense_layers', min_value=1, max_value=3, step=1)):\n",
        "    headModel = Dense(units=denseLayers[i], activation=\"relu\")(headModel)\n",
        "  headModel = Dropout(hp.Choice('dropout_rate', [0.2, 0.25, 0.3, 0.4, 0.5]))(headModel)\n",
        "  headModel = Dense(hp.Int('num_last_dense', min_value=32, max_value=64, step=16), activation=\"relu\")(headModel)\n",
        "  headModel = Dense(6, activation=\"softmax\")(headModel)\n",
        "  model = Model(inputs=baseModel.input, outputs=headModel)\n",
        "  for layer in baseModel.layers:\n",
        "    layer.trainable = False\n",
        "  model.compile(\n",
        "    loss='categorical_crossentropy',\n",
        "    optimizer=\"adam\",\n",
        "    metrics=['accuracy'])\n",
        "  return model"
      ]
    },
    {
      "cell_type": "code",
      "execution_count": 12,
      "metadata": {
        "id": "mr_VzFzyx1kL"
      },
      "outputs": [
        {
          "name": "stdout",
          "output_type": "stream",
          "text": [
            "Metal device set to: Apple M1\n",
            "\n",
            "systemMemory: 16.00 GB\n",
            "maxCacheSize: 5.33 GB\n",
            "\n"
          ]
        },
        {
          "name": "stderr",
          "output_type": "stream",
          "text": [
            "2022-08-24 20:47:10.875877: I tensorflow/core/common_runtime/pluggable_device/pluggable_device_factory.cc:305] Could not identify NUMA node of platform GPU ID 0, defaulting to 0. Your kernel may not have been built with NUMA support.\n",
            "2022-08-24 20:47:10.876239: I tensorflow/core/common_runtime/pluggable_device/pluggable_device_factory.cc:271] Created TensorFlow device (/job:localhost/replica:0/task:0/device:GPU:0 with 0 MB memory) -> physical PluggableDevice (device: 0, name: METAL, pci bus id: <undefined>)\n"
          ]
        }
      ],
      "source": [
        "model = get_mobilenet_model(kt.HyperParameters())\n",
        "model_name = \"model.h5\""
      ]
    },
    {
      "cell_type": "code",
      "execution_count": 13,
      "metadata": {
        "id": "3banICQ4x7ct"
      },
      "outputs": [],
      "source": [
        "model_checkpoint = tf.keras.callbacks.ModelCheckpoint(\n",
        "    \"models/\"+model_name, save_best_only=True)\n",
        "early_stopping = tf.keras.callbacks.EarlyStopping(patience=10)"
      ]
    },
    {
      "cell_type": "code",
      "execution_count": 14,
      "metadata": {},
      "outputs": [],
      "source": [
        "tuner = kt.RandomSearch(\n",
        "    get_mobilenet_model,\n",
        "    objective='val_accuracy', \n",
        "    max_trials=50,\n",
        "    overwrite=True,\n",
        "    project_name='melodistic-project') "
      ]
    },
    {
      "cell_type": "code",
      "execution_count": 15,
      "metadata": {},
      "outputs": [
        {
          "name": "stdout",
          "output_type": "stream",
          "text": [
            "Trial 50 Complete [00h 03m 45s]\n",
            "val_accuracy: 0.8500000238418579\n",
            "\n",
            "Best val_accuracy So Far: 0.9311111569404602\n",
            "Total elapsed time: 03h 00m 28s\n",
            "INFO:tensorflow:Oracle triggered exit\n"
          ]
        }
      ],
      "source": [
        "tuner.search(train_data, epochs=10, validation_data=val_data, callbacks=[model_checkpoint, early_stopping])"
      ]
    },
    {
      "cell_type": "code",
      "execution_count": 16,
      "metadata": {
        "id": "mLnVUxtsx8bv"
      },
      "outputs": [
        {
          "name": "stdout",
          "output_type": "stream",
          "text": [
            "Epoch 1/100\n"
          ]
        },
        {
          "name": "stderr",
          "output_type": "stream",
          "text": [
            "2022-08-24 23:47:57.306223: I tensorflow/core/grappler/optimizers/custom_graph_optimizer_registry.cc:113] Plugin optimizer for device_type GPU is enabled.\n"
          ]
        },
        {
          "name": "stdout",
          "output_type": "stream",
          "text": [
            "36/36 [==============================] - ETA: 0s - loss: 0.0626 - accuracy: 0.9789"
          ]
        },
        {
          "name": "stderr",
          "output_type": "stream",
          "text": [
            "2022-08-24 23:48:21.156297: I tensorflow/core/grappler/optimizers/custom_graph_optimizer_registry.cc:113] Plugin optimizer for device_type GPU is enabled.\n"
          ]
        },
        {
          "name": "stdout",
          "output_type": "stream",
          "text": [
            "36/36 [==============================] - 32s 802ms/step - loss: 0.0626 - accuracy: 0.9789 - val_loss: 0.2183 - val_accuracy: 0.9356\n",
            "Epoch 2/100\n",
            "36/36 [==============================] - 22s 608ms/step - loss: 0.0906 - accuracy: 0.9680 - val_loss: 0.2404 - val_accuracy: 0.9344\n",
            "Epoch 3/100\n",
            "36/36 [==============================] - 20s 564ms/step - loss: 0.0571 - accuracy: 0.9824 - val_loss: 0.2552 - val_accuracy: 0.9311\n",
            "Epoch 4/100\n",
            "36/36 [==============================] - 21s 582ms/step - loss: 0.0405 - accuracy: 0.9864 - val_loss: 0.2738 - val_accuracy: 0.9078\n",
            "Epoch 5/100\n",
            "36/36 [==============================] - 21s 582ms/step - loss: 0.0382 - accuracy: 0.9862 - val_loss: 0.2332 - val_accuracy: 0.9389\n",
            "Epoch 6/100\n",
            "36/36 [==============================] - 20s 566ms/step - loss: 0.0281 - accuracy: 0.9893 - val_loss: 0.4558 - val_accuracy: 0.8911\n",
            "Epoch 7/100\n",
            "36/36 [==============================] - 21s 575ms/step - loss: 0.0739 - accuracy: 0.9749 - val_loss: 0.4105 - val_accuracy: 0.8911\n",
            "Epoch 8/100\n",
            "36/36 [==============================] - 21s 582ms/step - loss: 0.0674 - accuracy: 0.9762 - val_loss: 0.2410 - val_accuracy: 0.9333\n",
            "Epoch 9/100\n",
            "36/36 [==============================] - 21s 574ms/step - loss: 0.0624 - accuracy: 0.9780 - val_loss: 0.2217 - val_accuracy: 0.9378\n",
            "Epoch 10/100\n",
            "36/36 [==============================] - 20s 566ms/step - loss: 0.0341 - accuracy: 0.9876 - val_loss: 0.2343 - val_accuracy: 0.9444\n",
            "Epoch 11/100\n",
            "36/36 [==============================] - 20s 566ms/step - loss: 0.0188 - accuracy: 0.9947 - val_loss: 0.2293 - val_accuracy: 0.9422\n"
          ]
        }
      ],
      "source": [
        "best_model = tuner.get_best_models()[0]\n",
        "EPOCHS = 100\n",
        "history = best_model.fit(train_data, epochs=EPOCHS, validation_data=val_data, batch_size=BATCH_SIZE, callbacks=[early_stopping, model_checkpoint])"
      ]
    },
    {
      "cell_type": "markdown",
      "metadata": {},
      "source": [
        "# Save Model"
      ]
    },
    {
      "cell_type": "code",
      "execution_count": 17,
      "metadata": {},
      "outputs": [],
      "source": [
        "best_model.save(\"models/\"+model_name)"
      ]
    },
    {
      "cell_type": "markdown",
      "metadata": {},
      "source": [
        "# Load Model"
      ]
    },
    {
      "cell_type": "code",
      "execution_count": 18,
      "metadata": {},
      "outputs": [
        {
          "name": "stdout",
          "output_type": "stream",
          "text": [
            "WARNING:tensorflow:Error in loading the saved optimizer state. As a result, your model is starting with a freshly initialized optimizer.\n"
          ]
        }
      ],
      "source": [
        "model = load_model(\"models/\"+model_name)"
      ]
    },
    {
      "cell_type": "markdown",
      "metadata": {},
      "source": [
        "# Evaluate Model"
      ]
    },
    {
      "cell_type": "code",
      "execution_count": 19,
      "metadata": {},
      "outputs": [
        {
          "name": "stderr",
          "output_type": "stream",
          "text": [
            "2022-08-24 23:51:57.574068: I tensorflow/core/grappler/optimizers/custom_graph_optimizer_registry.cc:113] Plugin optimizer for device_type GPU is enabled.\n"
          ]
        },
        {
          "name": "stdout",
          "output_type": "stream",
          "text": [
            "Done:  10 Acc: 0.9\n",
            "Done:  20 Acc: 0.9\n",
            "Done:  30 Acc: 0.9\n",
            "Done:  40 Acc: 0.925\n",
            "Done:  50 Acc: 0.94\n",
            "Done:  60 Acc: 0.9333\n",
            "Done:  70 Acc: 0.9429\n",
            "Done:  80 Acc: 0.9375\n",
            "Done:  90 Acc: 0.9444\n",
            "Done:  100 Acc: 0.95\n",
            "Done:  110 Acc: 0.9545\n",
            "Done:  120 Acc: 0.95\n",
            "Done:  130 Acc: 0.9538\n",
            "Done:  140 Acc: 0.95\n",
            "Done:  150 Acc: 0.94\n",
            "Done:  160 Acc: 0.9375\n",
            "Done:  170 Acc: 0.9412\n",
            "Done:  180 Acc: 0.9444\n",
            "Done:  190 Acc: 0.9474\n",
            "Done:  200 Acc: 0.94\n",
            "Done:  210 Acc: 0.9429\n",
            "Done:  220 Acc: 0.9364\n",
            "Done:  230 Acc: 0.9348\n",
            "Done:  240 Acc: 0.9375\n",
            "Done:  250 Acc: 0.936\n",
            "Done:  260 Acc: 0.9346\n",
            "Done:  270 Acc: 0.9333\n",
            "Done:  280 Acc: 0.9357\n",
            "Done:  290 Acc: 0.9379\n",
            "Done:  300 Acc: 0.94\n",
            "Done:  310 Acc: 0.9419\n",
            "Done:  320 Acc: 0.9437\n",
            "Done:  330 Acc: 0.9455\n",
            "Done:  340 Acc: 0.9471\n",
            "Done:  350 Acc: 0.9486\n",
            "Done:  360 Acc: 0.9472\n",
            "Done:  370 Acc: 0.9459\n",
            "Done:  380 Acc: 0.9474\n",
            "Done:  390 Acc: 0.9487\n",
            "Done:  400 Acc: 0.95\n",
            "Done:  410 Acc: 0.9488\n",
            "Done:  420 Acc: 0.95\n",
            "Done:  430 Acc: 0.9512\n",
            "Done:  440 Acc: 0.95\n",
            "Done:  450 Acc: 0.9489\n",
            "Done:  460 Acc: 0.95\n",
            "Done:  470 Acc: 0.9511\n",
            "Done:  480 Acc: 0.95\n",
            "Done:  490 Acc: 0.9469\n",
            "Done:  500 Acc: 0.946\n",
            "Done:  510 Acc: 0.9451\n",
            "Done:  520 Acc: 0.9462\n",
            "Done:  530 Acc: 0.9472\n",
            "Done:  540 Acc: 0.9444\n",
            "Done:  550 Acc: 0.9418\n",
            "Done:  560 Acc: 0.9429\n",
            "Done:  570 Acc: 0.9404\n",
            "Done:  580 Acc: 0.9397\n",
            "Done:  590 Acc: 0.9407\n",
            "Done:  600 Acc: 0.9383\n",
            "Accuracy:  0.9383\n"
          ]
        }
      ],
      "source": [
        "import os\n",
        "confusion_matrix_s = np.zeros(36).reshape(6,6)\n",
        "true = 0\n",
        "class_labels = list(train_data.class_indices.keys())\n",
        "count = 0\n",
        "for i in test_df.itertuples():\n",
        "    img = tf.keras.preprocessing.image.load_img(\n",
        "        os.path.join(base_dir,i[3]), target_size=(IMAGE_SIZE, IMAGE_SIZE)\n",
        "    )\n",
        "    img_array = tf.keras.preprocessing.image.img_to_array(img)\n",
        "    img_array = img_array / 255\n",
        "    img_array = img_array.reshape(1,IMAGE_SIZE,IMAGE_SIZE,3)\n",
        "    predictions = model.predict(img_array)\n",
        "    pred_class = class_labels[np.argmax(predictions)]   \n",
        "    row = class_labels.index(pred_class)\n",
        "    col = class_labels.index(i[2])\n",
        "    confusion_matrix_s[row][col] += 1\n",
        "    if pred_class == i[2]:\n",
        "        true+=1\n",
        "    count += 1\n",
        "    if count % 10 == 0:\n",
        "        print(\"Done: \",count, \"Acc:\", round(true/count,4))\n",
        "print(\"Accuracy: \", round(true/count,4))"
      ]
    },
    {
      "cell_type": "code",
      "execution_count": 20,
      "metadata": {},
      "outputs": [
        {
          "name": "stdout",
          "output_type": "stream",
          "text": [
            "Accuracy:  0.9383333333333334\n"
          ]
        },
        {
          "name": "stderr",
          "output_type": "stream",
          "text": [
            "/var/folders/q1/qjttjhc15mb146h6q363vh_80000gn/T/ipykernel_1362/980666082.py:9: UserWarning: FixedFormatter should only be used together with FixedLocator\n",
            "  ax.set_xticklabels([\"\",*class_labels])\n",
            "/var/folders/q1/qjttjhc15mb146h6q363vh_80000gn/T/ipykernel_1362/980666082.py:10: UserWarning: FixedFormatter should only be used together with FixedLocator\n",
            "  ax.set_yticklabels([\"\",*class_labels])\n"
          ]
        },
        {
          "data": {
            "image/png": "[encoded data removed]",
            "text/plain": [
              "<Figure size 432x288 with 2 Axes>"
            ]
          },
          "metadata": {
            "needs_background": "light"
          },
          "output_type": "display_data"
        }
      ],
      "source": [
        "import matplotlib.pyplot as plt\n",
        "fig, ax = plt.subplots()\n",
        "plt.title(\"Confusion Matrix\")\n",
        "heatmap = ax.matshow(confusion_matrix_s,cmap='GnBu')\n",
        "plt.xlabel(\"Actual Class\")\n",
        "plt.ylabel(\"Predict Class\")\n",
        "plt.colorbar(heatmap)\n",
        "ax.xaxis.set_ticks_position('bottom')\n",
        "ax.set_xticklabels([\"\",*class_labels])\n",
        "ax.set_yticklabels([\"\",*class_labels])\n",
        "for (i, j), z in np.ndenumerate(confusion_matrix_s):\n",
        "    ax.text(j, i, '{:0.1f}'.format(z), ha='center', va='center')\n",
        "accuracy = np.trace(confusion_matrix_s)/np.sum(confusion_matrix_s)\n",
        "print(\"Accuracy: \", accuracy)"
      ]
    }
  ],
  "metadata": {
    "colab": {
      "name": "Untitled17.ipynb",
      "provenance": []
    },
    "kernelspec": {
      "display_name": "Python 3.8.12 ('mlp')",
      "language": "python",
      "name": "python3"
    },
    "language_info": {
      "codemirror_mode": {
        "name": "ipython",
        "version": 3
      },
      "file_extension": ".py",
      "mimetype": "text/x-python",
      "name": "python",
      "nbconvert_exporter": "python",
      "pygments_lexer": "ipython3",
      "version": "3.8.12"
    },
    "vscode": {
      "interpreter": {
        "hash": "eb7f5d246b341b988358d618623402cd5f4df3fd9724cd461a5bf09489b82624"
      }
    }
  },
  "nbformat": 4,
  "nbformat_minor": 0
}
