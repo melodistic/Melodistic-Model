{
 "cells": [
  {
   "cell_type": "code",
   "execution_count": 1,
   "metadata": {},
   "outputs": [],
   "source": [
    "from tensorflow.keras.models import load_model,Model\n",
    "import tensorflow as tf\n",
    "import os"
   ]
  },
  {
   "cell_type": "code",
   "execution_count": 2,
   "metadata": {},
   "outputs": [
    {
     "name": "stdout",
     "output_type": "stream",
     "text": [
      "Metal device set to: Apple M1\n",
      "\n",
      "systemMemory: 16.00 GB\n",
      "maxCacheSize: 5.33 GB\n",
      "\n"
     ]
    },
    {
     "name": "stderr",
     "output_type": "stream",
     "text": [
      "2022-04-19 11:39:12.373378: I tensorflow/core/common_runtime/pluggable_device/pluggable_device_factory.cc:305] Could not identify NUMA node of platform GPU ID 0, defaulting to 0. Your kernel may not have been built with NUMA support.\n",
      "2022-04-19 11:39:12.373742: I tensorflow/core/common_runtime/pluggable_device/pluggable_device_factory.cc:271] Created TensorFlow device (/job:localhost/replica:0/task:0/device:GPU:0 with 0 MB memory) -> physical PluggableDevice (device: 0, name: METAL, pci bus id: <undefined>)\n"
     ]
    }
   ],
   "source": [
    "model = load_model(\"models/model_v2.h5\")\n",
    "new_model = Model(model.input,model.layers[-6].output)"
   ]
  },
  {
   "cell_type": "code",
   "execution_count": 3,
   "metadata": {},
   "outputs": [],
   "source": [
    "base_dir = \"spectogram/\"\n",
    "IMAGE_SIZE = 224"
   ]
  },
  {
   "cell_type": "code",
   "execution_count": 4,
   "metadata": {},
   "outputs": [],
   "source": [
    "def prediction(path):\n",
    "    img = tf.keras.preprocessing.image.load_img(\n",
    "        os.path.join(base_dir,path), target_size=(IMAGE_SIZE, IMAGE_SIZE)\n",
    "    )\n",
    "    img_array = tf.keras.preprocessing.image.img_to_array(img)\n",
    "    img_array = img_array / 255\n",
    "    img_array = img_array.reshape(1,IMAGE_SIZE,IMAGE_SIZE,3)\n",
    "    return new_model.predict(img_array)"
   ]
  },
  {
   "cell_type": "code",
   "execution_count": 5,
   "metadata": {},
   "outputs": [],
   "source": [
    "import random\n",
    "data = random.choices(os.listdir(os.path.join(base_dir,\"Chill\")),k=10)"
   ]
  },
  {
   "cell_type": "code",
   "execution_count": 6,
   "metadata": {},
   "outputs": [
    {
     "data": {
      "text/plain": [
       "['My City_1.png',\n",
       " 'Crash for a Couple_1.png',\n",
       " 'Got That Feeling_3.png',\n",
       " 'Love Song_0.png',\n",
       " 'Heart To Heart_7.png',\n",
       " 'Let the Fire Catch_0.png',\n",
       " 'Easy Street_0.png',\n",
       " 'Give Me the Night_7.png',\n",
       " 'Good To Me_10.png',\n",
       " 'Got That Feeling_4.png']"
      ]
     },
     "execution_count": 6,
     "metadata": {},
     "output_type": "execute_result"
    }
   ],
   "source": [
    "data"
   ]
  },
  {
   "cell_type": "code",
   "execution_count": 7,
   "metadata": {},
   "outputs": [
    {
     "name": "stderr",
     "output_type": "stream",
     "text": [
      "2022-04-18 20:55:15.054240: W tensorflow/core/platform/profile_utils/cpu_utils.cc:128] Failed to get CPU frequency: 0 Hz\n",
      "2022-04-18 20:55:15.268311: I tensorflow/core/grappler/optimizers/custom_graph_optimizer_registry.cc:113] Plugin optimizer for device_type GPU is enabled.\n"
     ]
    }
   ],
   "source": [
    "base = \"Chill/Give Me the Night_5.png\"\n",
    "base_feature = prediction(base).flatten()\n",
    "data_feature = []\n",
    "for i in data:\n",
    "    data_feature.append(prediction(os.path.join(\"Chill\",i)).flatten())"
   ]
  },
  {
   "cell_type": "code",
   "execution_count": 8,
   "metadata": {},
   "outputs": [
    {
     "name": "stdout",
     "output_type": "stream",
     "text": [
      "My City_1.png 0.89068216\n",
      "Crash for a Couple_1.png 0.7858389\n",
      "Got That Feeling_3.png 0.8391561\n",
      "Love Song_0.png 0.8320839\n",
      "Heart To Heart_7.png 0.88336945\n",
      "Let the Fire Catch_0.png 0.8731682\n",
      "Easy Street_0.png 0.79012376\n",
      "Give Me the Night_7.png 0.95039123\n",
      "Good To Me_10.png 0.7266301\n",
      "Got That Feeling_4.png 0.81320435\n"
     ]
    }
   ],
   "source": [
    "import numpy as np\n",
    "for i in range(len(data_feature)):\n",
    "    similarity = np.dot(base_feature, data_feature[i]) / (np.linalg.norm(base_feature) * np.linalg.norm(data_feature[i]))\n",
    "    print(data[i], similarity)"
   ]
  }
 ],
 "metadata": {
  "interpreter": {
   "hash": "eb7f5d246b341b988358d618623402cd5f4df3fd9724cd461a5bf09489b82624"
  },
  "kernelspec": {
   "display_name": "Python 3.8.12 ('mlp')",
   "language": "python",
   "name": "python3"
  },
  "language_info": {
   "codemirror_mode": {
    "name": "ipython",
    "version": 3
   },
   "file_extension": ".py",
   "mimetype": "text/x-python",
   "name": "python",
   "nbconvert_exporter": "python",
   "pygments_lexer": "ipython3",
   "version": "3.8.12"
  },
  "orig_nbformat": 4
 },
 "nbformat": 4,
 "nbformat_minor": 2
}
