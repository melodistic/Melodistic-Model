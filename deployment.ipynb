{
 "cells": [
  {
   "cell_type": "code",
   "execution_count": 11,
   "metadata": {},
   "outputs": [],
   "source": [
    "from tensorflow.keras.models import load_model,Model\n",
    "from pydub import AudioSegment\n",
    "import os\n",
    "import random\n",
    "import librosa\n",
    "from spleeter.separator import Separator\n",
    "import shutil\n",
    "import gc\n",
    "import tensorflow as tf\n",
    "import numpy as np"
   ]
  },
  {
   "cell_type": "code",
   "execution_count": 12,
   "metadata": {},
   "outputs": [],
   "source": [
    "def extract_instrumental(separator,audio,name):\n",
    "    # Wait for implementation\n",
    "    return \"\""
   ]
  },
  {
   "cell_type": "code",
   "execution_count": 13,
   "metadata": {},
   "outputs": [],
   "source": [
    "def extract_audio():\n",
    "    # Wait for implementation\n",
    "    return \"\""
   ]
  },
  {
   "cell_type": "code",
   "execution_count": 14,
   "metadata": {},
   "outputs": [],
   "source": [
    "def preprocess():\n",
    "    # Wait for implementation\n",
    "    return \"\""
   ]
  },
  {
   "cell_type": "code",
   "execution_count": 15,
   "metadata": {},
   "outputs": [],
   "source": [
    "def get_bpm():\n",
    "    return \"\""
   ]
  },
  {
   "cell_type": "code",
   "execution_count": 16,
   "metadata": {},
   "outputs": [],
   "source": [
    "def get_spectrogram(path):\n",
    "    IMAGE_SIZE = 224\n",
    "    img = tf.keras.preprocessing.image.load_img(path, target_size=(IMAGE_SIZE, IMAGE_SIZE)\n",
    "    )\n",
    "    img_array = tf.keras.preprocessing.image.img_to_array(img)\n",
    "    img_array = img_array / 255\n",
    "    img_array = img_array.reshape(1,IMAGE_SIZE,IMAGE_SIZE,3)\n",
    "    return img_array"
   ]
  },
  {
   "cell_type": "code",
   "execution_count": 17,
   "metadata": {},
   "outputs": [],
   "source": [
    "def manipulate_audio(filepath):\n",
    "    # Wait for implementation\n",
    "    # extract_instrumental(audio)\n",
    "    # extract_audio()\n",
    "    return [\"spectogram/Chill/A New Day_0.png\",\"spectogram/Chill/A New Day_1.png\",\"spectogram/Chill/A New Day_2.png\"]"
   ]
  },
  {
   "cell_type": "code",
   "execution_count": 23,
   "metadata": {},
   "outputs": [],
   "source": [
    "def get_model():\n",
    "    model_path = 'models/model_v2.h5'\n",
    "    model = load_model(model_path)\n",
    "    return model"
   ]
  },
  {
   "cell_type": "code",
   "execution_count": 19,
   "metadata": {},
   "outputs": [],
   "source": [
    "def prediction(model,audio):\n",
    "    class_labels = [\"Anxious\",\"Chill\",\"Focus\",\"Party\",\"Romance\",\"Sad\"]\n",
    "    predictions = model.predict(audio)\n",
    "    mood = class_labels[np.argmax(predictions)]   \n",
    "    feature_model = Model(model.input,model.layers[-6].output)\n",
    "    features = feature_model.predict(audio)\n",
    "    return mood,features"
   ]
  },
  {
   "cell_type": "code",
   "execution_count": 24,
   "metadata": {},
   "outputs": [
    {
     "name": "stdout",
     "output_type": "stream",
     "text": [
      "WARNING:tensorflow:5 out of the last 7 calls to <function Model.make_predict_function.<locals>.predict_function at 0x28bc67dc0> triggered tf.function retracing. Tracing is expensive and the excessive number of tracings could be due to (1) creating @tf.function repeatedly in a loop, (2) passing tensors with different shapes, (3) passing Python objects instead of tensors. For (1), please define your @tf.function outside of the loop. For (2), @tf.function has experimental_relax_shapes=True option that relaxes argument shapes that can avoid unnecessary retracing. For (3), please refer to https://www.tensorflow.org/guide/function#controlling_retracing and https://www.tensorflow.org/api_docs/python/tf/function for  more details.\n",
      "WARNING:tensorflow:6 out of the last 8 calls to <function Model.make_predict_function.<locals>.predict_function at 0x28b7ca940> triggered tf.function retracing. Tracing is expensive and the excessive number of tracings could be due to (1) creating @tf.function repeatedly in a loop, (2) passing tensors with different shapes, (3) passing Python objects instead of tensors. For (1), please define your @tf.function outside of the loop. For (2), @tf.function has experimental_relax_shapes=True option that relaxes argument shapes that can avoid unnecessary retracing. For (3), please refer to https://www.tensorflow.org/guide/function#controlling_retracing and https://www.tensorflow.org/api_docs/python/tf/function for  more details.\n",
      "Chill\n",
      "[[0.21654424 1.2959886  0.         ... 0.         0.0273309  0.        ]]\n",
      "Chill\n",
      "[[0.24208312 0.30451098 0.         ... 0.04604465 0.02451873 0.        ]]\n",
      "Chill\n",
      "[[0.23294507 1.0261971  0.         ... 0.         0.00583037 0.        ]]\n"
     ]
    }
   ],
   "source": [
    "filepath = \"\"\n",
    "model = get_model()\n",
    "audios = manipulate_audio(filepath)\n",
    "for audio in audios:\n",
    "    spectrogram = get_spectrogram(audio)\n",
    "    bpm = get_bpm(audio)\n",
    "    mood, features = prediction(model,spectrogram)\n",
    "    print(mood)\n",
    "    print(features)\n",
    "    print(bpm)"
   ]
  }
 ],
 "metadata": {
  "interpreter": {
   "hash": "eb7f5d246b341b988358d618623402cd5f4df3fd9724cd461a5bf09489b82624"
  },
  "kernelspec": {
   "display_name": "Python 3.8.12 ('mlp')",
   "language": "python",
   "name": "python3"
  },
  "language_info": {
   "name": "python",
   "version": "3.8.12"
  },
  "orig_nbformat": 4
 },
 "nbformat": 4,
 "nbformat_minor": 2
}
